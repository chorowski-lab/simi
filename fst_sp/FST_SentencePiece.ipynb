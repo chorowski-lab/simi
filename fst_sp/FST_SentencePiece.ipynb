{
 "cells": [
  {
   "cell_type": "code",
   "execution_count": 1,
   "id": "5f4eb9c9-9ee9-42e5-8945-df227482cc99",
   "metadata": {},
   "outputs": [],
   "source": [
    "import io\n",
    "from collections import defaultdict, namedtuple, Counter\n",
    "\n",
    "import unidecode\n",
    "\n",
    "import numpy as np\n",
    "from scipy.special import logsumexp, digamma\n",
    "\n",
    "# import kaldi.fstext as fst\n",
    "import openfst_python as fst\n",
    "import sentencepiece as spm\n",
    "\n",
    "from fst_sp import *"
   ]
  },
  {
   "cell_type": "code",
   "execution_count": 2,
   "id": "e1daeebb-b743-48a0-9e3b-a7067567ea1c",
   "metadata": {},
   "outputs": [],
   "source": [
    "# TEXT = open('botchan.txt').read()\n",
    "\n",
    "TEXT='abababaabb cacacacacacacaca acacacacacac ca caca cacaca ac acac acacac abcabcabcabcabcab'\n",
    "TEXT = unidecode.unidecode(TEXT.lower())  #.replace(' ', '')\n",
    "SENTENCES_BY_SPACE = [Sentence(text, count) for text, count in Counter(TEXT.split()).items()]\n",
    "SENTENCES = [Sentence(line.strip(), 1) for line in TEXT.split('\\n') if line.strip()]\n",
    "TEXT = '\\n'.join([s[0] for s in SENTENCES])"
   ]
  },
  {
   "cell_type": "code",
   "execution_count": 6,
   "id": "4b651c92-1c69-4309-afb4-ce8be0841fec",
   "metadata": {},
   "outputs": [
    {
     "name": "stderr",
     "output_type": "stream",
     "text": [
      "sentencepiece_trainer.cc(77) LOG(INFO) Starts training with : \n",
      "trainer_spec {\n",
      "  input_format: \n",
      "  model_prefix: \n",
      "  model_type: UNIGRAM\n",
      "  vocab_size: 8\n",
      "  self_test_sample_size: 0\n",
      "  character_coverage: 0.9995\n",
      "  input_sentence_size: 0\n",
      "  shuffle_input_sentence: 1\n",
      "  seed_sentencepiece_size: 1000000\n",
      "  shrinking_factor: 0.85\n",
      "  max_sentence_length: 4192\n",
      "  num_threads: 16\n",
      "  num_sub_iterations: 10\n",
      "  max_sentencepiece_length: 16\n",
      "  split_by_unicode_script: 1\n",
      "  split_by_number: 1\n",
      "  split_by_whitespace: 1\n",
      "  split_digits: 0\n",
      "  treat_whitespace_as_suffix: 0\n",
      "  required_chars: \n",
      "  byte_fallback: 0\n",
      "  vocabulary_output_piece_score: 1\n",
      "  train_extremely_large_corpus: 0\n",
      "  hard_vocab_limit: 1\n",
      "  use_all_vocab: 0\n",
      "  unk_id: 0\n",
      "  bos_id: 1\n",
      "  eos_id: 2\n",
      "  pad_id: -1\n",
      "  unk_piece: <unk>\n",
      "  bos_piece: <s>\n",
      "  eos_piece: </s>\n",
      "  pad_piece: <pad>\n",
      "  unk_surface:  ⁇ \n",
      "}\n",
      "normalizer_spec {\n",
      "  name: nmt_nfkc\n",
      "  add_dummy_prefix: 1\n",
      "  remove_extra_whitespaces: 1\n",
      "  escape_whitespaces: 1\n",
      "  normalization_rule_tsv: \n",
      "}\n",
      "denormalizer_spec {}\n",
      "trainer_interface.cc(375) LOG(INFO) Loaded all 1 sentences\n",
      "trainer_interface.cc(390) LOG(INFO) Adding meta_piece: <unk>\n",
      "trainer_interface.cc(390) LOG(INFO) Adding meta_piece: <s>\n",
      "trainer_interface.cc(390) LOG(INFO) Adding meta_piece: </s>\n",
      "trainer_interface.cc(395) LOG(INFO) Normalizing sentences...\n",
      "trainer_interface.cc(456) LOG(INFO) all chars count=89\n",
      "trainer_interface.cc(477) LOG(INFO) Alphabet size=4\n",
      "trainer_interface.cc(478) LOG(INFO) Final character coverage=1\n",
      "trainer_interface.cc(510) LOG(INFO) Done! preprocessed 1 sentences.\n",
      "unigram_model_trainer.cc(138) LOG(INFO) Making suffix array...\n",
      "unigram_model_trainer.cc(142) LOG(INFO) Extracting frequent sub strings...\n",
      "unigram_model_trainer.cc(193) LOG(INFO) Initialized 53 seed sentencepieces\n",
      "trainer_interface.cc(516) LOG(INFO) Tokenizing input sentences with whitespace: 1\n",
      "trainer_interface.cc(526) LOG(INFO) Done! 10\n",
      "unigram_model_trainer.cc(488) LOG(INFO) Using 10 sentences for EM training\n",
      "unigram_model_trainer.cc(504) LOG(INFO) EM sub_iter=0 size=12 obj=7.39336 num_tokens=17 num_tokens/piece=1.41667\n",
      "unigram_model_trainer.cc(504) LOG(INFO) EM sub_iter=1 size=10 obj=34.606 num_tokens=39 num_tokens/piece=3.9\n",
      "unigram_model_trainer.cc(504) LOG(INFO) EM sub_iter=2 size=10 obj=35.1585 num_tokens=39 num_tokens/piece=3.9\n",
      "unigram_model_trainer.cc(504) LOG(INFO) EM sub_iter=3 size=10 obj=35.1543 num_tokens=39 num_tokens/piece=3.9\n",
      "unigram_model_trainer.cc(504) LOG(INFO) EM sub_iter=4 size=10 obj=35.1543 num_tokens=39 num_tokens/piece=3.9\n",
      "unigram_model_trainer.cc(504) LOG(INFO) EM sub_iter=5 size=10 obj=35.1543 num_tokens=39 num_tokens/piece=3.9\n",
      "unigram_model_trainer.cc(504) LOG(INFO) EM sub_iter=6 size=10 obj=35.1543 num_tokens=39 num_tokens/piece=3.9\n",
      "unigram_model_trainer.cc(504) LOG(INFO) EM sub_iter=7 size=10 obj=35.1543 num_tokens=39 num_tokens/piece=3.9\n",
      "unigram_model_trainer.cc(504) LOG(INFO) EM sub_iter=8 size=10 obj=35.1543 num_tokens=39 num_tokens/piece=3.9\n",
      "unigram_model_trainer.cc(504) LOG(INFO) EM sub_iter=9 size=10 obj=35.1543 num_tokens=39 num_tokens/piece=3.9\n",
      "unigram_model_trainer.cc(504) LOG(INFO) EM sub_iter=0 size=8 obj=42.8455 num_tokens=43 num_tokens/piece=5.375\n",
      "unigram_model_trainer.cc(504) LOG(INFO) EM sub_iter=1 size=8 obj=43.2459 num_tokens=43 num_tokens/piece=5.375\n",
      "unigram_model_trainer.cc(504) LOG(INFO) EM sub_iter=2 size=8 obj=43.2459 num_tokens=43 num_tokens/piece=5.375\n",
      "unigram_model_trainer.cc(504) LOG(INFO) EM sub_iter=3 size=8 obj=43.2459 num_tokens=43 num_tokens/piece=5.375\n",
      "unigram_model_trainer.cc(504) LOG(INFO) EM sub_iter=4 size=8 obj=43.2459 num_tokens=43 num_tokens/piece=5.375\n",
      "unigram_model_trainer.cc(504) LOG(INFO) EM sub_iter=5 size=8 obj=43.2459 num_tokens=43 num_tokens/piece=5.375\n",
      "unigram_model_trainer.cc(504) LOG(INFO) EM sub_iter=6 size=8 obj=43.2459 num_tokens=43 num_tokens/piece=5.375\n",
      "unigram_model_trainer.cc(504) LOG(INFO) EM sub_iter=7 size=8 obj=43.2459 num_tokens=43 num_tokens/piece=5.375\n",
      "unigram_model_trainer.cc(504) LOG(INFO) EM sub_iter=8 size=8 obj=43.2459 num_tokens=43 num_tokens/piece=5.375\n",
      "unigram_model_trainer.cc(504) LOG(INFO) EM sub_iter=9 size=8 obj=43.2459 num_tokens=43 num_tokens/piece=5.375\n"
     ]
    }
   ],
   "source": [
    "# Get the reference sentencpieces\n",
    "model=io.BytesIO()\n",
    "spm.SentencePieceTrainer.train(\n",
    "    sentence_iterator=io.BytesIO(TEXT.encode()),\n",
    "    model_writer=model,\n",
    "    vocab_size=8, \n",
    "    shrinking_factor=0.85,\n",
    "    num_sub_iterations=10\n",
    ")"
   ]
  },
  {
   "cell_type": "code",
   "execution_count": 7,
   "id": "2c26ed68-def2-4d52-9c2d-dd49e89173a1",
   "metadata": {},
   "outputs": [
    {
     "name": "stdout",
     "output_type": "stream",
     "text": [
      "Tot unigram prob: 0.8163016306690613\n"
     ]
    },
    {
     "data": {
      "text/plain": [
       "[SentencePiece(index=0, symbol='<unk>', log_freq=0.0),\n",
       " SentencePiece(index=1, symbol='<s>', log_freq=0.0),\n",
       " SentencePiece(index=2, symbol='</s>', log_freq=0.0),\n",
       " SentencePiece(index=3, symbol='b', log_freq=-0.4352858066558838),\n",
       " SentencePiece(index=4, symbol='ab', log_freq=-2.0434062480926514),\n",
       " SentencePiece(index=5, symbol='▁', log_freq=-4.326545715332031),\n",
       " SentencePiece(index=6, symbol='c', log_freq=-4.326645374298096),\n",
       " SentencePiece(index=7, symbol='a', log_freq=-4.326745510101318)]"
      ]
     },
     "execution_count": 7,
     "metadata": {},
     "output_type": "execute_result"
    }
   ],
   "source": [
    "sp = spm.SentencePieceProcessor(model_proto=model.getvalue())\n",
    "FINAL_PIECES = list(extract_pieces(sp))\n",
    "print(f\"Tot unigram prob: {np.exp(logsumexp([piece.log_freq for piece in FINAL_PIECES if piece.log_freq != 0.0]))}\")\n",
    "FINAL_PIECES[:100]"
   ]
  },
  {
   "cell_type": "code",
   "execution_count": 8,
   "id": "d16b3fb0-f78d-4e60-b45f-334b3663546d",
   "metadata": {},
   "outputs": [
    {
     "name": "stderr",
     "output_type": "stream",
     "text": [
      "sentencepiece_trainer.cc(77) LOG(INFO) Starts training with : \n",
      "trainer_spec {\n",
      "  input_format: \n",
      "  model_prefix: \n",
      "  model_type: UNIGRAM\n",
      "  vocab_size: 10\n",
      "  self_test_sample_size: 0\n",
      "  character_coverage: 0.9995\n",
      "  input_sentence_size: 0\n",
      "  shuffle_input_sentence: 1\n",
      "  seed_sentencepiece_size: 1000000\n",
      "  shrinking_factor: 0.75\n",
      "  max_sentence_length: 4192\n",
      "  num_threads: 16\n",
      "  num_sub_iterations: 2\n",
      "  max_sentencepiece_length: 16\n",
      "  split_by_unicode_script: 1\n",
      "  split_by_number: 1\n",
      "  split_by_whitespace: 1\n",
      "  split_digits: 0\n",
      "  treat_whitespace_as_suffix: 0\n",
      "  required_chars: \n",
      "  byte_fallback: 0\n",
      "  vocabulary_output_piece_score: 1\n",
      "  train_extremely_large_corpus: 0\n",
      "  hard_vocab_limit: 1\n",
      "  use_all_vocab: 0\n",
      "  unk_id: 0\n",
      "  bos_id: 1\n",
      "  eos_id: 2\n",
      "  pad_id: -1\n",
      "  unk_piece: <unk>\n",
      "  bos_piece: <s>\n",
      "  eos_piece: </s>\n",
      "  pad_piece: <pad>\n",
      "  unk_surface:  ⁇ \n",
      "}\n",
      "normalizer_spec {\n",
      "  name: nmt_nfkc\n",
      "  add_dummy_prefix: 1\n",
      "  remove_extra_whitespaces: 1\n",
      "  escape_whitespaces: 1\n",
      "  normalization_rule_tsv: \n",
      "}\n",
      "denormalizer_spec {}\n",
      "trainer_interface.cc(375) LOG(INFO) Loaded all 1 sentences\n",
      "trainer_interface.cc(390) LOG(INFO) Adding meta_piece: <unk>\n",
      "trainer_interface.cc(390) LOG(INFO) Adding meta_piece: <s>\n",
      "trainer_interface.cc(390) LOG(INFO) Adding meta_piece: </s>\n",
      "trainer_interface.cc(395) LOG(INFO) Normalizing sentences...\n",
      "trainer_interface.cc(456) LOG(INFO) all chars count=89\n",
      "trainer_interface.cc(477) LOG(INFO) Alphabet size=4\n",
      "trainer_interface.cc(478) LOG(INFO) Final character coverage=1\n",
      "trainer_interface.cc(510) LOG(INFO) Done! preprocessed 1 sentences.\n",
      "unigram_model_trainer.cc(138) LOG(INFO) Making suffix array...\n",
      "unigram_model_trainer.cc(142) LOG(INFO) Extracting frequent sub strings...\n",
      "unigram_model_trainer.cc(193) LOG(INFO) Initialized 53 seed sentencepieces\n",
      "trainer_interface.cc(516) LOG(INFO) Tokenizing input sentences with whitespace: 1\n",
      "trainer_interface.cc(526) LOG(INFO) Done! 10\n",
      "unigram_model_trainer.cc(488) LOG(INFO) Using 10 sentences for EM training\n",
      "unigram_model_trainer.cc(504) LOG(INFO) EM sub_iter=0 size=12 obj=7.39336 num_tokens=17 num_tokens/piece=1.41667\n",
      "unigram_model_trainer.cc(504) LOG(INFO) EM sub_iter=1 size=10 obj=34.606 num_tokens=39 num_tokens/piece=3.9\n"
     ]
    }
   ],
   "source": [
    "# Get the initial vocab\n",
    "\n",
    "model=io.BytesIO()\n",
    "spm.SentencePieceTrainer.train(\n",
    "    sentence_iterator=io.BytesIO(TEXT.encode()),\n",
    "    model_writer=model,\n",
    "    vocab_size=10,\n",
    ")"
   ]
  },
  {
   "cell_type": "code",
   "execution_count": 9,
   "id": "41aba295-82d8-445e-8a8d-74bfb207f476",
   "metadata": {},
   "outputs": [
    {
     "name": "stdout",
     "output_type": "stream",
     "text": [
      "Tot unigram prob: 0.8261814959746875\n"
     ]
    },
    {
     "data": {
      "text/plain": [
       "[SentencePiece(index=0, symbol='<unk>', log_freq=0.0),\n",
       " SentencePiece(index=1, symbol='<s>', log_freq=0.0),\n",
       " SentencePiece(index=2, symbol='</s>', log_freq=0.0),\n",
       " SentencePiece(index=3, symbol='b', log_freq=-0.5813193321228027),\n",
       " SentencePiece(index=4, symbol='ab', log_freq=-1.9380321502685547),\n",
       " SentencePiece(index=5, symbol='▁acacac', log_freq=-3.227902412414551),\n",
       " SentencePiece(index=6, symbol='▁cacaca', log_freq=-3.227902412414551),\n",
       " SentencePiece(index=7, symbol='▁', log_freq=-4.227703094482422),\n",
       " SentencePiece(index=8, symbol='c', log_freq=-4.227802753448486),\n",
       " SentencePiece(index=9, symbol='a', log_freq=-4.227902889251709)]"
      ]
     },
     "execution_count": 9,
     "metadata": {},
     "output_type": "execute_result"
    }
   ],
   "source": [
    "sp = spm.SentencePieceProcessor(model_proto=model.getvalue())\n",
    "INITIAL_PIECES = list(extract_pieces(sp))\n",
    "print(f\"Tot unigram prob: {np.exp(logsumexp([piece.log_freq for piece in INITIAL_PIECES if piece.log_freq != 0.0]))}\")\n",
    "INITIAL_PIECES[:100]"
   ]
  },
  {
   "cell_type": "code",
   "execution_count": 10,
   "id": "61e51478-2eee-4e7f-bfbe-ad2c14b56ed0",
   "metadata": {},
   "outputs": [],
   "source": [
    "T = SentencePieceTrainer(INITIAL_PIECES)"
   ]
  },
  {
   "cell_type": "code",
   "execution_count": 11,
   "id": "05cdbfaf-c0e2-450a-b5e1-e7817e8fb021",
   "metadata": {},
   "outputs": [],
   "source": [
    "# T.get_sp_to_char(INITIAL_PIECES)"
   ]
  },
  {
   "cell_type": "code",
   "execution_count": 12,
   "id": "64e72dc6-d189-4513-9e6f-31ec5a018f51",
   "metadata": {},
   "outputs": [
    {
     "data": {
      "image/svg+xml": [
       "<?xml version=\"1.0\" encoding=\"UTF-8\" standalone=\"no\"?>\n",
       "<!DOCTYPE svg PUBLIC \"-//W3C//DTD SVG 1.1//EN\"\n",
       " \"http://www.w3.org/Graphics/SVG/1.1/DTD/svg11.dtd\">\n",
       "<!-- Generated by graphviz version 2.48.0 (20210717.2242)\n",
       " -->\n",
       "<!-- Title: FST Pages: 1 -->\n",
       "<svg width=\"612pt\" height=\"38pt\"\n",
       " viewBox=\"0.00 0.00 612.00 37.91\" xmlns=\"http://www.w3.org/2000/svg\" xmlns:xlink=\"http://www.w3.org/1999/xlink\">\n",
       "<g id=\"graph0\" class=\"graph\" transform=\"scale(0.29 0.29) rotate(0) translate(4 127.69)\">\n",
       "<title>FST</title>\n",
       "<polygon fill=\"white\" stroke=\"transparent\" points=\"-4,4 -4,-127.69 2122.17,-127.69 2122.17,4 -4,4\"/>\n",
       "<!-- 0 -->\n",
       "<g id=\"node1\" class=\"node\">\n",
       "<title>0</title>\n",
       "<ellipse fill=\"none\" stroke=\"black\" stroke-width=\"2\" cx=\"18\" cy=\"-61.84\" rx=\"18\" ry=\"18\"/>\n",
       "<text text-anchor=\"middle\" x=\"18\" y=\"-58.14\" font-family=\"Times,serif\" font-size=\"14.00\">0</text>\n",
       "</g>\n",
       "<!-- 1 -->\n",
       "<g id=\"node2\" class=\"node\">\n",
       "<title>1</title>\n",
       "<ellipse fill=\"none\" stroke=\"black\" cx=\"245\" cy=\"-61.84\" rx=\"18\" ry=\"18\"/>\n",
       "<text text-anchor=\"middle\" x=\"245\" y=\"-58.14\" font-family=\"Times,serif\" font-size=\"14.00\">1</text>\n",
       "</g>\n",
       "<!-- 0&#45;&gt;1 -->\n",
       "<g id=\"edge1\" class=\"edge\">\n",
       "<title>0&#45;&gt;1</title>\n",
       "<path fill=\"none\" stroke=\"black\" d=\"M36.28,-61.84C75.23,-61.84 170.12,-61.84 216.95,-61.84\"/>\n",
       "<polygon fill=\"black\" stroke=\"black\" points=\"216.97,-65.34 226.97,-61.84 216.97,-58.34 216.97,-65.34\"/>\n",
       "<text text-anchor=\"middle\" x=\"131.5\" y=\"-65.64\" font-family=\"Times,serif\" font-size=\"14.00\">&lt;eps&gt;:&lt;eps&gt;/&#45;1.7496</text>\n",
       "</g>\n",
       "<!-- 2 -->\n",
       "<g id=\"node3\" class=\"node\">\n",
       "<title>2</title>\n",
       "<ellipse fill=\"none\" stroke=\"black\" cx=\"391\" cy=\"-61.84\" rx=\"18\" ry=\"18\"/>\n",
       "<text text-anchor=\"middle\" x=\"391\" y=\"-58.14\" font-family=\"Times,serif\" font-size=\"14.00\">2</text>\n",
       "</g>\n",
       "<!-- 1&#45;&gt;2 -->\n",
       "<g id=\"edge2\" class=\"edge\">\n",
       "<title>1&#45;&gt;2</title>\n",
       "<path fill=\"none\" stroke=\"black\" d=\"M263.08,-61.84C287.66,-61.84 333.25,-61.84 362.57,-61.84\"/>\n",
       "<polygon fill=\"black\" stroke=\"black\" points=\"362.94,-65.34 372.94,-61.84 362.94,-58.34 362.94,-65.34\"/>\n",
       "<text text-anchor=\"middle\" x=\"318\" y=\"-65.64\" font-family=\"Times,serif\" font-size=\"14.00\">▁:▁/4.2277</text>\n",
       "</g>\n",
       "<!-- 3 -->\n",
       "<g id=\"node4\" class=\"node\">\n",
       "<title>3</title>\n",
       "<ellipse fill=\"none\" stroke=\"black\" cx=\"533\" cy=\"-88.84\" rx=\"18\" ry=\"18\"/>\n",
       "<text text-anchor=\"middle\" x=\"533\" y=\"-85.14\" font-family=\"Times,serif\" font-size=\"14.00\">3</text>\n",
       "</g>\n",
       "<!-- 2&#45;&gt;3 -->\n",
       "<g id=\"edge3\" class=\"edge\">\n",
       "<title>2&#45;&gt;3</title>\n",
       "<path fill=\"none\" stroke=\"black\" d=\"M408.89,-65.1C432.75,-69.7 476.58,-78.16 504.99,-83.64\"/>\n",
       "<polygon fill=\"black\" stroke=\"black\" points=\"504.57,-87.12 515.05,-85.58 505.9,-80.25 504.57,-87.12\"/>\n",
       "<text text-anchor=\"middle\" x=\"462\" y=\"-85.64\" font-family=\"Times,serif\" font-size=\"14.00\">ab:a/1.938</text>\n",
       "</g>\n",
       "<!-- 4 -->\n",
       "<g id=\"node5\" class=\"node\">\n",
       "<title>4</title>\n",
       "<ellipse fill=\"none\" stroke=\"black\" cx=\"533\" cy=\"-34.84\" rx=\"18\" ry=\"18\"/>\n",
       "<text text-anchor=\"middle\" x=\"533\" y=\"-31.14\" font-family=\"Times,serif\" font-size=\"14.00\">4</text>\n",
       "</g>\n",
       "<!-- 2&#45;&gt;4 -->\n",
       "<g id=\"edge4\" class=\"edge\">\n",
       "<title>2&#45;&gt;4</title>\n",
       "<path fill=\"none\" stroke=\"black\" d=\"M407.73,-55.16C412.84,-53.2 418.59,-51.22 424,-49.84 451.12,-42.97 482.93,-39.03 504.97,-36.93\"/>\n",
       "<polygon fill=\"black\" stroke=\"black\" points=\"505.29,-40.42 514.94,-36.04 504.67,-33.44 505.29,-40.42\"/>\n",
       "<text text-anchor=\"middle\" x=\"462\" y=\"-53.64\" font-family=\"Times,serif\" font-size=\"14.00\">a:a/4.2279</text>\n",
       "</g>\n",
       "<!-- 5 -->\n",
       "<g id=\"node6\" class=\"node\">\n",
       "<title>5</title>\n",
       "<ellipse fill=\"none\" stroke=\"black\" cx=\"711\" cy=\"-61.84\" rx=\"18\" ry=\"18\"/>\n",
       "<text text-anchor=\"middle\" x=\"711\" y=\"-58.14\" font-family=\"Times,serif\" font-size=\"14.00\">5</text>\n",
       "</g>\n",
       "<!-- 3&#45;&gt;5 -->\n",
       "<g id=\"edge5\" class=\"edge\">\n",
       "<title>3&#45;&gt;5</title>\n",
       "<path fill=\"none\" stroke=\"black\" d=\"M550.88,-86.26C581.49,-81.56 646.42,-71.6 683.18,-65.96\"/>\n",
       "<polygon fill=\"black\" stroke=\"black\" points=\"683.82,-69.4 693.18,-64.43 682.76,-62.48 683.82,-69.4\"/>\n",
       "<text text-anchor=\"middle\" x=\"622\" y=\"-86.64\" font-family=\"Times,serif\" font-size=\"14.00\">&lt;eps&gt;:b/&#45;1e&#45;06</text>\n",
       "</g>\n",
       "<!-- 4&#45;&gt;5 -->\n",
       "<g id=\"edge6\" class=\"edge\">\n",
       "<title>4&#45;&gt;5</title>\n",
       "<path fill=\"none\" stroke=\"black\" d=\"M551.12,-34.92C578.37,-35.4 633.12,-37.8 678,-48.84 680.22,-49.39 682.5,-50.07 684.75,-50.82\"/>\n",
       "<polygon fill=\"black\" stroke=\"black\" points=\"683.76,-54.18 694.35,-54.43 686.23,-47.63 683.76,-54.18\"/>\n",
       "<text text-anchor=\"middle\" x=\"622\" y=\"-52.64\" font-family=\"Times,serif\" font-size=\"14.00\">b:b/0.58132</text>\n",
       "</g>\n",
       "<!-- 6 -->\n",
       "<g id=\"node7\" class=\"node\">\n",
       "<title>6</title>\n",
       "<ellipse fill=\"none\" stroke=\"black\" cx=\"853\" cy=\"-88.84\" rx=\"18\" ry=\"18\"/>\n",
       "<text text-anchor=\"middle\" x=\"853\" y=\"-85.14\" font-family=\"Times,serif\" font-size=\"14.00\">6</text>\n",
       "</g>\n",
       "<!-- 5&#45;&gt;6 -->\n",
       "<g id=\"edge7\" class=\"edge\">\n",
       "<title>5&#45;&gt;6</title>\n",
       "<path fill=\"none\" stroke=\"black\" d=\"M728.89,-65.1C752.75,-69.7 796.58,-78.16 824.99,-83.64\"/>\n",
       "<polygon fill=\"black\" stroke=\"black\" points=\"824.57,-87.12 835.05,-85.58 825.9,-80.25 824.57,-87.12\"/>\n",
       "<text text-anchor=\"middle\" x=\"782\" y=\"-85.64\" font-family=\"Times,serif\" font-size=\"14.00\">ab:a/1.938</text>\n",
       "</g>\n",
       "<!-- 7 -->\n",
       "<g id=\"node8\" class=\"node\">\n",
       "<title>7</title>\n",
       "<ellipse fill=\"none\" stroke=\"black\" cx=\"853\" cy=\"-34.84\" rx=\"18\" ry=\"18\"/>\n",
       "<text text-anchor=\"middle\" x=\"853\" y=\"-31.14\" font-family=\"Times,serif\" font-size=\"14.00\">7</text>\n",
       "</g>\n",
       "<!-- 5&#45;&gt;7 -->\n",
       "<g id=\"edge8\" class=\"edge\">\n",
       "<title>5&#45;&gt;7</title>\n",
       "<path fill=\"none\" stroke=\"black\" d=\"M727.73,-55.16C732.84,-53.2 738.59,-51.22 744,-49.84 771.12,-42.97 802.93,-39.03 824.97,-36.93\"/>\n",
       "<polygon fill=\"black\" stroke=\"black\" points=\"825.29,-40.42 834.94,-36.04 824.67,-33.44 825.29,-40.42\"/>\n",
       "<text text-anchor=\"middle\" x=\"782\" y=\"-53.64\" font-family=\"Times,serif\" font-size=\"14.00\">a:a/4.2279</text>\n",
       "</g>\n",
       "<!-- 8 -->\n",
       "<g id=\"node9\" class=\"node\">\n",
       "<title>8</title>\n",
       "<ellipse fill=\"none\" stroke=\"black\" cx=\"1031\" cy=\"-61.84\" rx=\"18\" ry=\"18\"/>\n",
       "<text text-anchor=\"middle\" x=\"1031\" y=\"-58.14\" font-family=\"Times,serif\" font-size=\"14.00\">8</text>\n",
       "</g>\n",
       "<!-- 6&#45;&gt;8 -->\n",
       "<g id=\"edge9\" class=\"edge\">\n",
       "<title>6&#45;&gt;8</title>\n",
       "<path fill=\"none\" stroke=\"black\" d=\"M870.88,-86.26C901.49,-81.56 966.42,-71.6 1003.18,-65.96\"/>\n",
       "<polygon fill=\"black\" stroke=\"black\" points=\"1003.82,-69.4 1013.18,-64.43 1002.76,-62.48 1003.82,-69.4\"/>\n",
       "<text text-anchor=\"middle\" x=\"942\" y=\"-86.64\" font-family=\"Times,serif\" font-size=\"14.00\">&lt;eps&gt;:b/&#45;1e&#45;06</text>\n",
       "</g>\n",
       "<!-- 7&#45;&gt;8 -->\n",
       "<g id=\"edge10\" class=\"edge\">\n",
       "<title>7&#45;&gt;8</title>\n",
       "<path fill=\"none\" stroke=\"black\" d=\"M871.12,-34.92C898.37,-35.4 953.12,-37.8 998,-48.84 1000.22,-49.39 1002.5,-50.07 1004.75,-50.82\"/>\n",
       "<polygon fill=\"black\" stroke=\"black\" points=\"1003.76,-54.18 1014.35,-54.43 1006.23,-47.63 1003.76,-54.18\"/>\n",
       "<text text-anchor=\"middle\" x=\"942\" y=\"-52.64\" font-family=\"Times,serif\" font-size=\"14.00\">b:b/0.58132</text>\n",
       "</g>\n",
       "<!-- 9 -->\n",
       "<g id=\"node10\" class=\"node\">\n",
       "<title>9</title>\n",
       "<ellipse fill=\"none\" stroke=\"black\" cx=\"1177.75\" cy=\"-91.84\" rx=\"18\" ry=\"18\"/>\n",
       "<text text-anchor=\"middle\" x=\"1177.75\" y=\"-88.14\" font-family=\"Times,serif\" font-size=\"14.00\">9</text>\n",
       "</g>\n",
       "<!-- 8&#45;&gt;9 -->\n",
       "<g id=\"edge11\" class=\"edge\">\n",
       "<title>8&#45;&gt;9</title>\n",
       "<path fill=\"none\" stroke=\"black\" d=\"M1048.89,-65.34C1073.73,-70.49 1120.36,-80.16 1149.92,-86.29\"/>\n",
       "<polygon fill=\"black\" stroke=\"black\" points=\"1149.47,-89.76 1159.97,-88.37 1150.89,-82.91 1149.47,-89.76\"/>\n",
       "<text text-anchor=\"middle\" x=\"1102\" y=\"-86.64\" font-family=\"Times,serif\" font-size=\"14.00\">ab:a/1.938</text>\n",
       "</g>\n",
       "<!-- 10 -->\n",
       "<g id=\"node11\" class=\"node\">\n",
       "<title>10</title>\n",
       "<ellipse fill=\"none\" stroke=\"black\" cx=\"1177.75\" cy=\"-32.84\" rx=\"23\" ry=\"23\"/>\n",
       "<text text-anchor=\"middle\" x=\"1177.75\" y=\"-29.14\" font-family=\"Times,serif\" font-size=\"14.00\">10</text>\n",
       "</g>\n",
       "<!-- 8&#45;&gt;10 -->\n",
       "<g id=\"edge12\" class=\"edge\">\n",
       "<title>8&#45;&gt;10</title>\n",
       "<path fill=\"none\" stroke=\"black\" d=\"M1047.69,-54.58C1052.8,-52.46 1058.56,-50.31 1064,-48.84 1090.7,-41.65 1121.87,-37.54 1144.67,-35.29\"/>\n",
       "<polygon fill=\"black\" stroke=\"black\" points=\"1145.18,-38.76 1154.82,-34.36 1144.54,-31.79 1145.18,-38.76\"/>\n",
       "<text text-anchor=\"middle\" x=\"1102\" y=\"-52.64\" font-family=\"Times,serif\" font-size=\"14.00\">a:a/4.2279</text>\n",
       "</g>\n",
       "<!-- 11 -->\n",
       "<g id=\"node12\" class=\"node\">\n",
       "<title>11</title>\n",
       "<ellipse fill=\"none\" stroke=\"black\" cx=\"1365.24\" cy=\"-61.84\" rx=\"23\" ry=\"23\"/>\n",
       "<text text-anchor=\"middle\" x=\"1365.24\" y=\"-58.14\" font-family=\"Times,serif\" font-size=\"14.00\">11</text>\n",
       "</g>\n",
       "<!-- 9&#45;&gt;11 -->\n",
       "<g id=\"edge13\" class=\"edge\">\n",
       "<title>9&#45;&gt;11</title>\n",
       "<path fill=\"none\" stroke=\"black\" d=\"M1195.87,-89.08C1226.99,-84.04 1293.26,-73.32 1332.75,-66.94\"/>\n",
       "<polygon fill=\"black\" stroke=\"black\" points=\"1333.33,-70.39 1342.65,-65.34 1332.22,-63.48 1333.33,-70.39\"/>\n",
       "<text text-anchor=\"middle\" x=\"1271.5\" y=\"-88.64\" font-family=\"Times,serif\" font-size=\"14.00\">&lt;eps&gt;:b/&#45;1e&#45;06</text>\n",
       "</g>\n",
       "<!-- 10&#45;&gt;11 -->\n",
       "<g id=\"edge14\" class=\"edge\">\n",
       "<title>10&#45;&gt;11</title>\n",
       "<path fill=\"none\" stroke=\"black\" d=\"M1200.69,-33.61C1229.94,-34.99 1283.17,-38.77 1327.5,-48.84 1329.69,-49.34 1331.94,-49.93 1334.19,-50.58\"/>\n",
       "<polygon fill=\"black\" stroke=\"black\" points=\"1333.3,-53.97 1343.89,-53.7 1335.44,-47.31 1333.3,-53.97\"/>\n",
       "<text text-anchor=\"middle\" x=\"1271.5\" y=\"-52.64\" font-family=\"Times,serif\" font-size=\"14.00\">b:b/0.58132</text>\n",
       "</g>\n",
       "<!-- 12 -->\n",
       "<g id=\"node13\" class=\"node\">\n",
       "<title>12</title>\n",
       "<ellipse fill=\"none\" stroke=\"black\" cx=\"1516.74\" cy=\"-61.84\" rx=\"23\" ry=\"23\"/>\n",
       "<text text-anchor=\"middle\" x=\"1516.74\" y=\"-58.14\" font-family=\"Times,serif\" font-size=\"14.00\">12</text>\n",
       "</g>\n",
       "<!-- 11&#45;&gt;12 -->\n",
       "<g id=\"edge15\" class=\"edge\">\n",
       "<title>11&#45;&gt;12</title>\n",
       "<path fill=\"none\" stroke=\"black\" d=\"M1388.3,-61.84C1413.37,-61.84 1454.51,-61.84 1483.24,-61.84\"/>\n",
       "<polygon fill=\"black\" stroke=\"black\" points=\"1483.59,-65.34 1493.59,-61.84 1483.59,-58.34 1483.59,-65.34\"/>\n",
       "<text text-anchor=\"middle\" x=\"1440.99\" y=\"-65.64\" font-family=\"Times,serif\" font-size=\"14.00\">a:a/4.2279</text>\n",
       "</g>\n",
       "<!-- 13 -->\n",
       "<g id=\"node14\" class=\"node\">\n",
       "<title>13</title>\n",
       "<ellipse fill=\"none\" stroke=\"black\" cx=\"1668.24\" cy=\"-93.84\" rx=\"23\" ry=\"23\"/>\n",
       "<text text-anchor=\"middle\" x=\"1668.24\" y=\"-90.14\" font-family=\"Times,serif\" font-size=\"14.00\">13</text>\n",
       "</g>\n",
       "<!-- 12&#45;&gt;13 -->\n",
       "<g id=\"edge16\" class=\"edge\">\n",
       "<title>12&#45;&gt;13</title>\n",
       "<path fill=\"none\" stroke=\"black\" d=\"M1539.16,-66.43C1564.47,-71.85 1606.8,-80.91 1635.82,-87.12\"/>\n",
       "<polygon fill=\"black\" stroke=\"black\" points=\"1635.35,-90.6 1645.86,-89.27 1636.81,-83.75 1635.35,-90.6\"/>\n",
       "<text text-anchor=\"middle\" x=\"1592.49\" y=\"-88.64\" font-family=\"Times,serif\" font-size=\"14.00\">ab:a/1.938</text>\n",
       "</g>\n",
       "<!-- 14 -->\n",
       "<g id=\"node15\" class=\"node\">\n",
       "<title>14</title>\n",
       "<ellipse fill=\"none\" stroke=\"black\" cx=\"1668.24\" cy=\"-30.84\" rx=\"23\" ry=\"23\"/>\n",
       "<text text-anchor=\"middle\" x=\"1668.24\" y=\"-27.14\" font-family=\"Times,serif\" font-size=\"14.00\">14</text>\n",
       "</g>\n",
       "<!-- 12&#45;&gt;14 -->\n",
       "<g id=\"edge17\" class=\"edge\">\n",
       "<title>12&#45;&gt;14</title>\n",
       "<path fill=\"none\" stroke=\"black\" d=\"M1538.57,-54.45C1543.73,-52.78 1549.27,-51.13 1554.49,-49.84 1581.44,-43.21 1612.6,-38.16 1635.32,-34.93\"/>\n",
       "<polygon fill=\"black\" stroke=\"black\" points=\"1636,-38.37 1645.43,-33.54 1635.04,-31.44 1636,-38.37\"/>\n",
       "<text text-anchor=\"middle\" x=\"1592.49\" y=\"-53.64\" font-family=\"Times,serif\" font-size=\"14.00\">a:a/4.2279</text>\n",
       "</g>\n",
       "<!-- 15 -->\n",
       "<g id=\"node16\" class=\"node\">\n",
       "<title>15</title>\n",
       "<ellipse fill=\"none\" stroke=\"black\" cx=\"1855.73\" cy=\"-61.84\" rx=\"23\" ry=\"23\"/>\n",
       "<text text-anchor=\"middle\" x=\"1855.73\" y=\"-58.14\" font-family=\"Times,serif\" font-size=\"14.00\">15</text>\n",
       "</g>\n",
       "<!-- 13&#45;&gt;15 -->\n",
       "<g id=\"edge18\" class=\"edge\">\n",
       "<title>13&#45;&gt;15</title>\n",
       "<path fill=\"none\" stroke=\"black\" d=\"M1690.88,-90.11C1723.55,-84.48 1785.64,-73.76 1823.3,-67.27\"/>\n",
       "<polygon fill=\"black\" stroke=\"black\" points=\"1823.97,-70.7 1833.23,-65.55 1822.78,-63.81 1823.97,-70.7\"/>\n",
       "<text text-anchor=\"middle\" x=\"1761.98\" y=\"-90.64\" font-family=\"Times,serif\" font-size=\"14.00\">&lt;eps&gt;:b/&#45;1e&#45;06</text>\n",
       "</g>\n",
       "<!-- 14&#45;&gt;15 -->\n",
       "<g id=\"edge19\" class=\"edge\">\n",
       "<title>14&#45;&gt;15</title>\n",
       "<path fill=\"none\" stroke=\"black\" d=\"M1691.14,-32.34C1720.35,-34.64 1773.54,-39.84 1817.98,-49.84 1820.03,-50.31 1822.12,-50.83 1824.22,-51.4\"/>\n",
       "<polygon fill=\"black\" stroke=\"black\" points=\"1823.35,-54.79 1833.93,-54.3 1825.35,-48.09 1823.35,-54.79\"/>\n",
       "<text text-anchor=\"middle\" x=\"1761.98\" y=\"-53.64\" font-family=\"Times,serif\" font-size=\"14.00\">b:b/0.58132</text>\n",
       "</g>\n",
       "<!-- 16 -->\n",
       "<g id=\"node17\" class=\"node\">\n",
       "<title>16</title>\n",
       "<ellipse fill=\"none\" stroke=\"black\" cx=\"2056.32\" cy=\"-61.84\" rx=\"57.7\" ry=\"57.7\"/>\n",
       "<ellipse fill=\"none\" stroke=\"black\" cx=\"2056.32\" cy=\"-61.84\" rx=\"61.69\" ry=\"61.69\"/>\n",
       "<text text-anchor=\"middle\" x=\"2056.32\" y=\"-58.14\" font-family=\"Times,serif\" font-size=\"14.00\">16/1.7496</text>\n",
       "</g>\n",
       "<!-- 15&#45;&gt;16 -->\n",
       "<g id=\"edge20\" class=\"edge\">\n",
       "<title>15&#45;&gt;16</title>\n",
       "<path fill=\"none\" stroke=\"black\" d=\"M1878.74,-61.84C1904.04,-61.84 1946.84,-61.84 1983.97,-61.84\"/>\n",
       "<polygon fill=\"black\" stroke=\"black\" points=\"1984.27,-65.34 1994.27,-61.84 1984.27,-58.34 1984.27,-65.34\"/>\n",
       "<text text-anchor=\"middle\" x=\"1936.48\" y=\"-65.64\" font-family=\"Times,serif\" font-size=\"14.00\">b:b/0.58132</text>\n",
       "</g>\n",
       "</g>\n",
       "</svg>\n"
      ],
      "text/plain": [
       "<vector Fst at 0x7f877d104470>"
      ]
     },
     "execution_count": 12,
     "metadata": {},
     "output_type": "execute_result"
    }
   ],
   "source": [
    "# sentence = 'abc a'\n",
    "sentence = SENTENCES_BY_SPACE[0][0]\n",
    "lattice = T.get_lattice(sentence, T.get_sp_to_char(INITIAL_PIECES))\n",
    "lattice"
   ]
  },
  {
   "cell_type": "code",
   "execution_count": 13,
   "id": "c352d424-4c90-4ac2-9217-927f579b3d67",
   "metadata": {},
   "outputs": [
    {
     "data": {
      "text/plain": [
       "[ViterbiPath(path=[7, 4, 4, 4, 9, 4, 3], prob=0.8022437625242183),\n",
       " ViterbiPath(path=[7, 9, 3, 4, 4, 9, 4, 3], prob=0.0454322711574762)]"
      ]
     },
     "execution_count": 13,
     "metadata": {},
     "output_type": "execute_result"
    }
   ],
   "source": [
    "T.viterbi(sentence, T.get_sp_to_char(INITIAL_PIECES, 'standard'), nshortest=2)"
   ]
  },
  {
   "cell_type": "code",
   "execution_count": 14,
   "id": "5bb473c2-cd7d-4370-8bf2-69eb0bf29051",
   "metadata": {},
   "outputs": [
    {
     "data": {
      "text/plain": [
       "PieceCounts(Z=16.5687141, counts=defaultdict(<class 'float'>, {7: 1.0000004600001082, 4: 3.7856164250649207, 9: 1.2143862827175234, 3: 1.2143855206948173}))"
      ]
     },
     "execution_count": 14,
     "metadata": {},
     "output_type": "execute_result"
    }
   ],
   "source": [
    "T.compute_piece_counts(sentence, T.get_sp_to_char(INITIAL_PIECES, 'log'))"
   ]
  },
  {
   "cell_type": "code",
   "execution_count": 15,
   "id": "7a1d8cc6-5ba9-40e8-87ac-160cb43a5b05",
   "metadata": {},
   "outputs": [
    {
     "name": "stdout",
     "output_type": "stream",
     "text": [
      "[(7, 7), (4, 4), (4, 4), (4, 4), (9, 9), (4, 4), (3, 3), (6, 6), (8, 8), (9, 9), (8, 8), (9, 9), (8, 8), (9, 9), (8, 8), (9, 9), (8, 8), (9, 9), (5, 5), (9, 9), (8, 8), (9, 9), (8, 8), (9, 9), (8, 8), (7, 7), (8, 8), (9, 9), (7, 7), (8, 8), (9, 9), (8, 8), (9, 9), (6, 6), (7, 7), (9, 9), (8, 8), (7, 7), (9, 9), (8, 8), (9, 9), (8, 8), (5, 5), (7, 7), (4, 4), (8, 8), (4, 4), (8, 8), (4, 4), (8, 8), (4, 4), (8, 8), (4, 4), (8, 8), (4, 4)]\n"
     ]
    }
   ],
   "source": [
    "# TODO: verify why EM returns different results, when our Viterbi seems to be OK\n",
    "assert len(sp.tokenize(SENTENCES[0][0])) == len(T.viterbi(SENTENCES[0][0], T.get_sp_to_char(INITIAL_PIECES, 'standard'), nshortest=2)[0][0])\n",
    "print(list(zip(sp.tokenize(SENTENCES[0][0]), T.viterbi(SENTENCES[0][0], T.get_sp_to_char(INITIAL_PIECES, 'standard'), nshortest=2)[0][0])))"
   ]
  },
  {
   "cell_type": "code",
   "execution_count": 16,
   "id": "55a41b3d-947b-447a-b1c0-485013e11771",
   "metadata": {},
   "outputs": [
    {
     "name": "stdout",
     "output_type": "stream",
     "text": [
      "[(7, 7), (4, 4), (4, 4), (4, 4), (9, 9), (4, 4), (3, 3)]\n",
      "[(6, 6), (8, 8), (9, 9), (8, 8), (9, 9), (8, 8), (9, 9), (8, 8), (9, 9), (8, 8), (9, 9)]\n",
      "[(5, 5), (9, 9), (8, 8), (9, 9), (8, 8), (9, 9), (8, 8)]\n",
      "[(7, 7), (8, 8), (9, 9)]\n",
      "[(7, 7), (8, 8), (9, 9), (8, 8), (9, 9)]\n",
      "[(6, 6)]\n",
      "[(7, 7), (9, 9), (8, 8)]\n",
      "[(7, 7), (9, 9), (8, 8), (9, 9), (8, 8)]\n",
      "[(5, 5)]\n",
      "[(7, 7), (4, 4), (8, 8), (4, 4), (8, 8), (4, 4), (8, 8), (4, 4), (8, 8), (4, 4), (8, 8), (4, 4)]\n"
     ]
    }
   ],
   "source": [
    "for S, _ in SENTENCES_BY_SPACE[:10]:\n",
    "    assert len(sp.tokenize(S)) == len(T.viterbi(S, T.get_sp_to_char(INITIAL_PIECES, 'standard'), nshortest=2)[0][0])\n",
    "    print(list(zip(sp.tokenize(S), T.viterbi(S, T.get_sp_to_char(INITIAL_PIECES, 'standard'), nshortest=2)[0][0])))"
   ]
  },
  {
   "cell_type": "code",
   "execution_count": 18,
   "id": "d78720e1-f55d-4528-97cf-57e80694de77",
   "metadata": {},
   "outputs": [
    {
     "name": "stdout",
     "output_type": "stream",
     "text": [
      "EM sub_iter=0 size=7 tot_piece_prob=0.9473977784125238 obj=20.143541617999997 num_tokens=55 num_tokens/piece=7.857142857142857\n",
      "EM sub_iter=1 size=7 tot_piece_prob=0.9473907525270666 obj=9.007325607000002 num_tokens=55 num_tokens/piece=7.857142857142857\n",
      "EM sub_iter=2 size=7 tot_piece_prob=0.9473785419701616 obj=9.012519208 num_tokens=55 num_tokens/piece=7.857142857142857\n",
      "EM sub_iter=3 size=7 tot_piece_prob=0.9473760075023951 obj=9.015252964999998 num_tokens=55 num_tokens/piece=7.857142857142857\n",
      "EM sub_iter=4 size=7 tot_piece_prob=0.9473754203870208 obj=9.016210136 num_tokens=55 num_tokens/piece=7.857142857142857\n",
      "EM sub_iter=5 size=7 tot_piece_prob=0.9473752001825962 obj=9.016507768 num_tokens=55 num_tokens/piece=7.857142857142857\n",
      "EM sub_iter=6 size=7 tot_piece_prob=0.9473751183357986 obj=9.016600045 num_tokens=55 num_tokens/piece=7.857142857142857\n",
      "EM sub_iter=7 size=7 tot_piece_prob=0.9473751554085614 obj=9.016627024000002 num_tokens=55 num_tokens/piece=7.857142857142857\n",
      "EM sub_iter=8 size=7 tot_piece_prob=0.9473751484388436 obj=9.016633415000001 num_tokens=55 num_tokens/piece=7.857142857142857\n",
      "EM sub_iter=9 size=7 tot_piece_prob=0.9473751349047754 obj=9.016635804 num_tokens=55 num_tokens/piece=7.857142857142857\n"
     ]
    }
   ],
   "source": [
    "# Sentencepiece training\n",
    "pieces = INITIAL_PIECES\n",
    "sentences = SENTENCES_BY_SPACE\n",
    "\n",
    "DESIRED_PIECES = 8\n",
    "PRUNE_FRAC = 0.85\n",
    "NUM_SUBITER = 10\n",
    "\n",
    "while True:\n",
    "    # EM Step\n",
    "    for sub_iter in range(NUM_SUBITER):  # num_sub_iterations\n",
    "        e_ret = T.EStep(pieces, sentences)\n",
    "        pieces = T.MStep(pieces, e_ret.counts)\n",
    "        print(f\"EM sub_iter={sub_iter} size={len(pieces)} tot_piece_prob={np.exp(logsumexp([piece.log_freq for piece in pieces]))} \"\n",
    "              f\"obj={e_ret.objective} num_tokens={e_ret.n_tokens} num_tokens/piece={e_ret.n_tokens / len(pieces)}\" )\n",
    "    \n",
    "    if len(pieces) <= DESIRED_PIECES:\n",
    "        break\n",
    "\n",
    "    pieces = T.prune_pieces(pieces, sentences, DESIRED_PIECES, PRUNE_FRAC)\n",
    "    if len(pieces) <= DESIRED_PIECES:\n",
    "        break\n",
    "        \n",
    "# TODO: add finalization"
   ]
  },
  {
   "cell_type": "code",
   "execution_count": 19,
   "id": "84b393d3-92be-4842-8bb1-f94effd3fceb",
   "metadata": {},
   "outputs": [
    {
     "data": {
      "text/plain": [
       "[SentencePiece(index=0, symbol='<unk>', log_freq=0.0),\n",
       " SentencePiece(index=1, symbol='<s>', log_freq=0.0),\n",
       " SentencePiece(index=2, symbol='</s>', log_freq=0.0),\n",
       " SentencePiece(index=3, symbol='b', log_freq=-0.4352858066558838),\n",
       " SentencePiece(index=4, symbol='ab', log_freq=-2.0434062480926514),\n",
       " SentencePiece(index=5, symbol='▁', log_freq=-4.326545715332031),\n",
       " SentencePiece(index=6, symbol='c', log_freq=-4.326645374298096),\n",
       " SentencePiece(index=7, symbol='a', log_freq=-4.326745510101318)]"
      ]
     },
     "execution_count": 19,
     "metadata": {},
     "output_type": "execute_result"
    }
   ],
   "source": [
    "FINAL_PIECES"
   ]
  },
  {
   "cell_type": "code",
   "execution_count": 20,
   "id": "32af96ba-e9ca-4e69-a127-0d5fbcd6cc17",
   "metadata": {},
   "outputs": [
    {
     "data": {
      "text/plain": [
       "[SentencePiece(index=3, symbol='b', log_freq=-4.271026063923138),\n",
       " SentencePiece(index=4, symbol='ab', log_freq=-1.7747283462605172),\n",
       " SentencePiece(index=5, symbol='▁acacac', log_freq=-3.5841411201032565),\n",
       " SentencePiece(index=6, symbol='▁cacaca', log_freq=-3.5841405392594385),\n",
       " SentencePiece(index=7, symbol='▁', log_freq=-2.2952878115703212),\n",
       " SentencePiece(index=8, symbol='c', log_freq=-1.0837235132295215),\n",
       " SentencePiece(index=9, symbol='a', log_freq=-1.3119612453736766)]"
      ]
     },
     "execution_count": 20,
     "metadata": {},
     "output_type": "execute_result"
    }
   ],
   "source": [
    "pieces"
   ]
  },
  {
   "cell_type": "code",
   "execution_count": null,
   "id": "f92a050d-53cf-4079-8b45-222ee2781fc1",
   "metadata": {},
   "outputs": [],
   "source": []
  }
 ],
 "metadata": {
  "kernelspec": {
   "display_name": "Python 3 (ipykernel)",
   "language": "python",
   "name": "python3"
  },
  "language_info": {
   "codemirror_mode": {
    "name": "ipython",
    "version": 3
   },
   "file_extension": ".py",
   "mimetype": "text/x-python",
   "name": "python",
   "nbconvert_exporter": "python",
   "pygments_lexer": "ipython3",
   "version": "3.7.11"
  }
 },
 "nbformat": 4,
 "nbformat_minor": 5
}
