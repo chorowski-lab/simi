{
 "cells": [
  {
   "cell_type": "markdown",
   "source": [
    "# Env instructions\n",
    "\n",
    "```bash\n",
    "conda create -n 202108-pykaldi-c11 python=3.7\n",
    "conda activate 202108-pykaldi-c11\n",
    "conda install mamba -c conda-forge\n",
    "mamba install pytorch torchvision torchaudio cudatoolkit=11.0 pykaldi matplotlib tqdm ipython scipy psutil progressbar ptvsd requests cython patchelf graphviz jupyterlab unidecode sentencepiece numba -c conda-forge -c pytorch -c pykaldi\n",
    "pip install git+https://github.com/jpuigcerver/openfst-python.git\n",
    "```"
   ],
   "metadata": {}
  },
  {
   "cell_type": "code",
   "execution_count": 31,
   "source": [
    "import io\n",
    "from collections import defaultdict, namedtuple, Counter\n",
    "\n",
    "import unidecode\n",
    "\n",
    "import numpy as np\n",
    "from scipy.special import logsumexp, digamma\n",
    "\n",
    "import kaldi.fstext as fst\n",
    "# import openfst_python as fst\n",
    "import sentencepiece as spm\n",
    "\n",
    "from kaldi_fst_sp import *"
   ],
   "outputs": [],
   "metadata": {}
  },
  {
   "cell_type": "code",
   "execution_count": 32,
   "source": [
    "# TEXT = open('botchan.txt').read()\n",
    "\n",
    "TEXT='abababaabb cacacacacacacaca acacacacacac ca caca cacaca ac acac acacac abcabcabcabcabcab'\n",
    "TEXT='abababaabb abcabcabcabcabcab ac acac acacac acacacacacac ca caca cacaca cacacacacacacaca'\n",
    "\n",
    "TEXT = unidecode.unidecode(TEXT.lower())  #.replace(' ', '')\n",
    "SENTENCES_BY_SPACE = [Sentence(text, count) for text, count in Counter(TEXT.split()).items()]\n",
    "SENTENCES = [Sentence(line.strip(), 1) for line in TEXT.split('\\n') if line.strip()]\n",
    "TEXT = '\\n'.join([s[0] for s in SENTENCES])"
   ],
   "outputs": [],
   "metadata": {}
  },
  {
   "cell_type": "code",
   "execution_count": 33,
   "source": [
    "# Get the reference sentencpieces\n",
    "model=io.BytesIO()\n",
    "spm.SentencePieceTrainer.train(\n",
    "    sentence_iterator=io.BytesIO(TEXT.encode()),\n",
    "    model_writer=model,\n",
    "    vocab_size=8, \n",
    "    shrinking_factor=0.85,\n",
    "    shuffle_input_sentence=0,\n",
    "    num_sub_iterations=10\n",
    ")"
   ],
   "outputs": [
    {
     "output_type": "stream",
     "name": "stderr",
     "text": [
      "sentencepiece_trainer.cc(77) LOG(INFO) Starts training with : \n",
      "trainer_spec {\n",
      "  input_format: \n",
      "  model_prefix: \n",
      "  model_type: UNIGRAM\n",
      "  vocab_size: 8\n",
      "  self_test_sample_size: 0\n",
      "  character_coverage: 0.9995\n",
      "  input_sentence_size: 0\n",
      "  shuffle_input_sentence: 0\n",
      "  seed_sentencepiece_size: 1000000\n",
      "  shrinking_factor: 0.85\n",
      "  max_sentence_length: 4192\n",
      "  num_threads: 16\n",
      "  num_sub_iterations: 10\n",
      "  max_sentencepiece_length: 16\n",
      "  split_by_unicode_script: 1\n",
      "  split_by_number: 1\n",
      "  split_by_whitespace: 1\n",
      "  split_digits: 0\n",
      "  treat_whitespace_as_suffix: 0\n",
      "  required_chars: \n",
      "  byte_fallback: 0\n",
      "  vocabulary_output_piece_score: 1\n",
      "  train_extremely_large_corpus: 0\n",
      "  hard_vocab_limit: 1\n",
      "  use_all_vocab: 0\n",
      "  unk_id: 0\n",
      "  bos_id: 1\n",
      "  eos_id: 2\n",
      "  pad_id: -1\n",
      "  unk_piece: <unk>\n",
      "  bos_piece: <s>\n",
      "  eos_piece: </s>\n",
      "  pad_piece: <pad>\n",
      "  unk_surface:  ⁇ \n",
      "}\n",
      "normalizer_spec {\n",
      "  name: nmt_nfkc\n",
      "  add_dummy_prefix: 1\n",
      "  remove_extra_whitespaces: 1\n",
      "  escape_whitespaces: 1\n",
      "  normalization_rule_tsv: \n",
      "}\n",
      "denormalizer_spec {}\n",
      "trainer_interface.cc(375) LOG(INFO) Loaded all 1 sentences\n",
      "trainer_interface.cc(390) LOG(INFO) Adding meta_piece: <unk>\n",
      "trainer_interface.cc(390) LOG(INFO) Adding meta_piece: <s>\n",
      "trainer_interface.cc(390) LOG(INFO) Adding meta_piece: </s>\n",
      "trainer_interface.cc(395) LOG(INFO) Normalizing sentences...\n",
      "trainer_interface.cc(456) LOG(INFO) all chars count=89\n",
      "trainer_interface.cc(477) LOG(INFO) Alphabet size=4\n",
      "trainer_interface.cc(478) LOG(INFO) Final character coverage=1\n",
      "trainer_interface.cc(510) LOG(INFO) Done! preprocessed 1 sentences.\n",
      "unigram_model_trainer.cc(138) LOG(INFO) Making suffix array...\n",
      "unigram_model_trainer.cc(142) LOG(INFO) Extracting frequent sub strings...\n",
      "unigram_model_trainer.cc(193) LOG(INFO) Initialized 53 seed sentencepieces\n",
      "trainer_interface.cc(516) LOG(INFO) Tokenizing input sentences with whitespace: 1\n",
      "trainer_interface.cc(526) LOG(INFO) Done! 10\n",
      "unigram_model_trainer.cc(488) LOG(INFO) Using 10 sentences for EM training\n",
      "unigram_model_trainer.cc(504) LOG(INFO) EM sub_iter=0 size=12 obj=7.39336 num_tokens=17 num_tokens/piece=1.41667\n",
      "unigram_model_trainer.cc(504) LOG(INFO) EM sub_iter=1 size=10 obj=34.606 num_tokens=39 num_tokens/piece=3.9\n",
      "unigram_model_trainer.cc(504) LOG(INFO) EM sub_iter=2 size=10 obj=35.1585 num_tokens=39 num_tokens/piece=3.9\n",
      "unigram_model_trainer.cc(504) LOG(INFO) EM sub_iter=3 size=10 obj=35.1543 num_tokens=39 num_tokens/piece=3.9\n",
      "unigram_model_trainer.cc(504) LOG(INFO) EM sub_iter=4 size=10 obj=35.1543 num_tokens=39 num_tokens/piece=3.9\n",
      "unigram_model_trainer.cc(504) LOG(INFO) EM sub_iter=5 size=10 obj=35.1543 num_tokens=39 num_tokens/piece=3.9\n",
      "unigram_model_trainer.cc(504) LOG(INFO) EM sub_iter=6 size=10 obj=35.1543 num_tokens=39 num_tokens/piece=3.9\n",
      "unigram_model_trainer.cc(504) LOG(INFO) EM sub_iter=7 size=10 obj=35.1543 num_tokens=39 num_tokens/piece=3.9\n",
      "unigram_model_trainer.cc(504) LOG(INFO) EM sub_iter=8 size=10 obj=35.1543 num_tokens=39 num_tokens/piece=3.9\n",
      "unigram_model_trainer.cc(504) LOG(INFO) EM sub_iter=9 size=10 obj=35.1543 num_tokens=39 num_tokens/piece=3.9\n",
      "unigram_model_trainer.cc(504) LOG(INFO) EM sub_iter=0 size=8 obj=42.8455 num_tokens=43 num_tokens/piece=5.375\n",
      "unigram_model_trainer.cc(504) LOG(INFO) EM sub_iter=1 size=8 obj=43.2459 num_tokens=43 num_tokens/piece=5.375\n",
      "unigram_model_trainer.cc(504) LOG(INFO) EM sub_iter=2 size=8 obj=43.2459 num_tokens=43 num_tokens/piece=5.375\n",
      "unigram_model_trainer.cc(504) LOG(INFO) EM sub_iter=3 size=8 obj=43.2459 num_tokens=43 num_tokens/piece=5.375\n",
      "unigram_model_trainer.cc(504) LOG(INFO) EM sub_iter=4 size=8 obj=43.2459 num_tokens=43 num_tokens/piece=5.375\n",
      "unigram_model_trainer.cc(504) LOG(INFO) EM sub_iter=5 size=8 obj=43.2459 num_tokens=43 num_tokens/piece=5.375\n",
      "unigram_model_trainer.cc(504) LOG(INFO) EM sub_iter=6 size=8 obj=43.2459 num_tokens=43 num_tokens/piece=5.375\n",
      "unigram_model_trainer.cc(504) LOG(INFO) EM sub_iter=7 size=8 obj=43.2459 num_tokens=43 num_tokens/piece=5.375\n",
      "unigram_model_trainer.cc(504) LOG(INFO) EM sub_iter=8 size=8 obj=43.2459 num_tokens=43 num_tokens/piece=5.375\n",
      "unigram_model_trainer.cc(504) LOG(INFO) EM sub_iter=9 size=8 obj=43.2459 num_tokens=43 num_tokens/piece=5.375\n"
     ]
    }
   ],
   "metadata": {}
  },
  {
   "cell_type": "code",
   "execution_count": 34,
   "source": [
    "sp = spm.SentencePieceProcessor(model_proto=model.getvalue())\n",
    "FINAL_PIECES = list(extract_pieces(sp))\n",
    "print(f\"Tot unigram prob: {np.exp(logsumexp([piece.log_freq for piece in FINAL_PIECES if piece.log_freq != 0.0]))}\")\n",
    "FINAL_PIECES[:100]"
   ],
   "outputs": [
    {
     "output_type": "stream",
     "name": "stdout",
     "text": [
      "Tot unigram prob: 0.8163016306690613\n"
     ]
    },
    {
     "output_type": "execute_result",
     "data": {
      "text/plain": [
       "[SentencePiece(index=0, symbol='<unk>', log_freq=0.0),\n",
       " SentencePiece(index=1, symbol='<s>', log_freq=0.0),\n",
       " SentencePiece(index=2, symbol='</s>', log_freq=0.0),\n",
       " SentencePiece(index=3, symbol='b', log_freq=-0.4352858066558838),\n",
       " SentencePiece(index=4, symbol='ab', log_freq=-2.0434062480926514),\n",
       " SentencePiece(index=5, symbol='▁', log_freq=-4.326545715332031),\n",
       " SentencePiece(index=6, symbol='c', log_freq=-4.326645374298096),\n",
       " SentencePiece(index=7, symbol='a', log_freq=-4.326745510101318)]"
      ]
     },
     "metadata": {},
     "execution_count": 34
    }
   ],
   "metadata": {}
  },
  {
   "cell_type": "code",
   "execution_count": 35,
   "source": [
    "# Get the initial vocab\n",
    "\n",
    "model=io.BytesIO()\n",
    "spm.SentencePieceTrainer.train(\n",
    "    sentence_iterator=io.BytesIO(TEXT.encode()),\n",
    "    model_writer=model,\n",
    "    vocab_size=10,\n",
    ")"
   ],
   "outputs": [
    {
     "output_type": "stream",
     "name": "stderr",
     "text": [
      "sentencepiece_trainer.cc(77) LOG(INFO) Starts training with : \n",
      "trainer_spec {\n",
      "  input_format: \n",
      "  model_prefix: \n",
      "  model_type: UNIGRAM\n",
      "  vocab_size: 10\n",
      "  self_test_sample_size: 0\n",
      "  character_coverage: 0.9995\n",
      "  input_sentence_size: 0\n",
      "  shuffle_input_sentence: 1\n",
      "  seed_sentencepiece_size: 1000000\n",
      "  shrinking_factor: 0.75\n",
      "  max_sentence_length: 4192\n",
      "  num_threads: 16\n",
      "  num_sub_iterations: 2\n",
      "  max_sentencepiece_length: 16\n",
      "  split_by_unicode_script: 1\n",
      "  split_by_number: 1\n",
      "  split_by_whitespace: 1\n",
      "  split_digits: 0\n",
      "  treat_whitespace_as_suffix: 0\n",
      "  required_chars: \n",
      "  byte_fallback: 0\n",
      "  vocabulary_output_piece_score: 1\n",
      "  train_extremely_large_corpus: 0\n",
      "  hard_vocab_limit: 1\n",
      "  use_all_vocab: 0\n",
      "  unk_id: 0\n",
      "  bos_id: 1\n",
      "  eos_id: 2\n",
      "  pad_id: -1\n",
      "  unk_piece: <unk>\n",
      "  bos_piece: <s>\n",
      "  eos_piece: </s>\n",
      "  pad_piece: <pad>\n",
      "  unk_surface:  ⁇ \n",
      "}\n",
      "normalizer_spec {\n",
      "  name: nmt_nfkc\n",
      "  add_dummy_prefix: 1\n",
      "  remove_extra_whitespaces: 1\n",
      "  escape_whitespaces: 1\n",
      "  normalization_rule_tsv: \n",
      "}\n",
      "denormalizer_spec {}\n",
      "trainer_interface.cc(375) LOG(INFO) Loaded all 1 sentences\n",
      "trainer_interface.cc(390) LOG(INFO) Adding meta_piece: <unk>\n",
      "trainer_interface.cc(390) LOG(INFO) Adding meta_piece: <s>\n",
      "trainer_interface.cc(390) LOG(INFO) Adding meta_piece: </s>\n",
      "trainer_interface.cc(395) LOG(INFO) Normalizing sentences...\n",
      "trainer_interface.cc(456) LOG(INFO) all chars count=89\n",
      "trainer_interface.cc(477) LOG(INFO) Alphabet size=4\n",
      "trainer_interface.cc(478) LOG(INFO) Final character coverage=1\n",
      "trainer_interface.cc(510) LOG(INFO) Done! preprocessed 1 sentences.\n",
      "unigram_model_trainer.cc(138) LOG(INFO) Making suffix array...\n",
      "unigram_model_trainer.cc(142) LOG(INFO) Extracting frequent sub strings...\n",
      "unigram_model_trainer.cc(193) LOG(INFO) Initialized 53 seed sentencepieces\n",
      "trainer_interface.cc(516) LOG(INFO) Tokenizing input sentences with whitespace: 1\n",
      "trainer_interface.cc(526) LOG(INFO) Done! 10\n",
      "unigram_model_trainer.cc(488) LOG(INFO) Using 10 sentences for EM training\n",
      "unigram_model_trainer.cc(504) LOG(INFO) EM sub_iter=0 size=12 obj=7.39336 num_tokens=17 num_tokens/piece=1.41667\n",
      "unigram_model_trainer.cc(504) LOG(INFO) EM sub_iter=1 size=10 obj=34.606 num_tokens=39 num_tokens/piece=3.9\n"
     ]
    }
   ],
   "metadata": {}
  },
  {
   "cell_type": "code",
   "execution_count": 36,
   "source": [
    "sp = spm.SentencePieceProcessor(model_proto=model.getvalue())\n",
    "INITIAL_PIECES = list(extract_pieces(sp))\n",
    "print(f\"Tot unigram prob: {np.exp(logsumexp([piece.log_freq for piece in INITIAL_PIECES if piece.log_freq != 0.0]))}\")\n",
    "INITIAL_PIECES[:100]"
   ],
   "outputs": [
    {
     "output_type": "stream",
     "name": "stdout",
     "text": [
      "Tot unigram prob: 0.8261814959746875\n"
     ]
    },
    {
     "output_type": "execute_result",
     "data": {
      "text/plain": [
       "[SentencePiece(index=0, symbol='<unk>', log_freq=0.0),\n",
       " SentencePiece(index=1, symbol='<s>', log_freq=0.0),\n",
       " SentencePiece(index=2, symbol='</s>', log_freq=0.0),\n",
       " SentencePiece(index=3, symbol='b', log_freq=-0.5813193321228027),\n",
       " SentencePiece(index=4, symbol='ab', log_freq=-1.9380321502685547),\n",
       " SentencePiece(index=5, symbol='▁acacac', log_freq=-3.227902412414551),\n",
       " SentencePiece(index=6, symbol='▁cacaca', log_freq=-3.227902412414551),\n",
       " SentencePiece(index=7, symbol='▁', log_freq=-4.227703094482422),\n",
       " SentencePiece(index=8, symbol='c', log_freq=-4.227802753448486),\n",
       " SentencePiece(index=9, symbol='a', log_freq=-4.227902889251709)]"
      ]
     },
     "metadata": {},
     "execution_count": 36
    }
   ],
   "metadata": {}
  },
  {
   "cell_type": "code",
   "execution_count": 37,
   "source": [
    "import importlib\n",
    "import kaldi_fst_sp\n",
    "importlib.reload(kaldi_fst_sp)\n",
    "from kaldi_fst_sp import *"
   ],
   "outputs": [],
   "metadata": {}
  },
  {
   "cell_type": "code",
   "execution_count": 38,
   "source": [
    "T = SentencePieceTrainer(INITIAL_PIECES)\n",
    "# T = SentencePieceTrainer(FINAL_PIECES)"
   ],
   "outputs": [],
   "metadata": {}
  },
  {
   "cell_type": "code",
   "execution_count": 39,
   "source": [
    "T.text_to_fst('abc')"
   ],
   "outputs": [
    {
     "output_type": "execute_result",
     "data": {
      "text/plain": [
       "<kaldi.fstext._api.LogVectorFst at 0x7fdae0c54bf0>"
      ],
      "image/svg+xml": "<?xml version=\"1.0\" encoding=\"UTF-8\" standalone=\"no\"?>\n<!DOCTYPE svg PUBLIC \"-//W3C//DTD SVG 1.1//EN\"\n \"http://www.w3.org/Graphics/SVG/1.1/DTD/svg11.dtd\">\n<!-- Generated by graphviz version 2.48.0 (20210717.2242)\n -->\n<!-- Title: FST Pages: 1 -->\n<svg width=\"354pt\" height=\"52pt\"\n viewBox=\"0.00 0.00 354.00 52.00\" xmlns=\"http://www.w3.org/2000/svg\" xmlns:xlink=\"http://www.w3.org/1999/xlink\">\n<g id=\"graph0\" class=\"graph\" transform=\"scale(1 1) rotate(0) translate(4 48)\">\n<title>FST</title>\n<polygon fill=\"white\" stroke=\"transparent\" points=\"-4,4 -4,-48 350,-48 350,4 -4,4\"/>\n<!-- 0 -->\n<g id=\"node1\" class=\"node\">\n<title>0</title>\n<ellipse fill=\"none\" stroke=\"black\" stroke-width=\"2\" cx=\"18\" cy=\"-22\" rx=\"18\" ry=\"18\"/>\n<text text-anchor=\"middle\" x=\"18\" y=\"-18.3\" font-family=\"Times,serif\" font-size=\"14.00\">0</text>\n</g>\n<!-- 1 -->\n<g id=\"node2\" class=\"node\">\n<title>1</title>\n<ellipse fill=\"none\" stroke=\"black\" cx=\"95\" cy=\"-22\" rx=\"18\" ry=\"18\"/>\n<text text-anchor=\"middle\" x=\"95\" y=\"-18.3\" font-family=\"Times,serif\" font-size=\"14.00\">1</text>\n</g>\n<!-- 0&#45;&gt;1 -->\n<g id=\"edge1\" class=\"edge\">\n<title>0&#45;&gt;1</title>\n<path fill=\"none\" stroke=\"black\" d=\"M36.02,-22C45.06,-22 56.4,-22 66.65,-22\"/>\n<polygon fill=\"black\" stroke=\"black\" points=\"66.79,-25.5 76.79,-22 66.79,-18.5 66.79,-25.5\"/>\n<text text-anchor=\"middle\" x=\"56.5\" y=\"-25.8\" font-family=\"Times,serif\" font-size=\"14.00\">▁</text>\n</g>\n<!-- 2 -->\n<g id=\"node3\" class=\"node\">\n<title>2</title>\n<ellipse fill=\"none\" stroke=\"black\" cx=\"170\" cy=\"-22\" rx=\"18\" ry=\"18\"/>\n<text text-anchor=\"middle\" x=\"170\" y=\"-18.3\" font-family=\"Times,serif\" font-size=\"14.00\">2</text>\n</g>\n<!-- 1&#45;&gt;2 -->\n<g id=\"edge2\" class=\"edge\">\n<title>1&#45;&gt;2</title>\n<path fill=\"none\" stroke=\"black\" d=\"M113.3,-22C121.75,-22 132.13,-22 141.63,-22\"/>\n<polygon fill=\"black\" stroke=\"black\" points=\"141.82,-25.5 151.82,-22 141.82,-18.5 141.82,-25.5\"/>\n<text text-anchor=\"middle\" x=\"132.5\" y=\"-25.8\" font-family=\"Times,serif\" font-size=\"14.00\">a</text>\n</g>\n<!-- 3 -->\n<g id=\"node4\" class=\"node\">\n<title>3</title>\n<ellipse fill=\"none\" stroke=\"black\" cx=\"246\" cy=\"-22\" rx=\"18\" ry=\"18\"/>\n<text text-anchor=\"middle\" x=\"246\" y=\"-18.3\" font-family=\"Times,serif\" font-size=\"14.00\">3</text>\n</g>\n<!-- 2&#45;&gt;3 -->\n<g id=\"edge3\" class=\"edge\">\n<title>2&#45;&gt;3</title>\n<path fill=\"none\" stroke=\"black\" d=\"M188.16,-22C196.94,-22 207.84,-22 217.73,-22\"/>\n<polygon fill=\"black\" stroke=\"black\" points=\"217.93,-25.5 227.93,-22 217.93,-18.5 217.93,-25.5\"/>\n<text text-anchor=\"middle\" x=\"208\" y=\"-25.8\" font-family=\"Times,serif\" font-size=\"14.00\">b</text>\n</g>\n<!-- 4 -->\n<g id=\"node5\" class=\"node\">\n<title>4</title>\n<ellipse fill=\"none\" stroke=\"black\" cx=\"324\" cy=\"-22\" rx=\"18\" ry=\"18\"/>\n<ellipse fill=\"none\" stroke=\"black\" cx=\"324\" cy=\"-22\" rx=\"22\" ry=\"22\"/>\n<text text-anchor=\"middle\" x=\"324\" y=\"-18.3\" font-family=\"Times,serif\" font-size=\"14.00\">4</text>\n</g>\n<!-- 3&#45;&gt;4 -->\n<g id=\"edge4\" class=\"edge\">\n<title>3&#45;&gt;4</title>\n<path fill=\"none\" stroke=\"black\" d=\"M264.25,-22C272.33,-22 282.22,-22 291.56,-22\"/>\n<polygon fill=\"black\" stroke=\"black\" points=\"291.75,-25.5 301.75,-22 291.75,-18.5 291.75,-25.5\"/>\n<text text-anchor=\"middle\" x=\"283\" y=\"-25.8\" font-family=\"Times,serif\" font-size=\"14.00\">c</text>\n</g>\n</g>\n</svg>\n"
     },
     "metadata": {},
     "execution_count": 39
    }
   ],
   "metadata": {}
  },
  {
   "cell_type": "code",
   "execution_count": 40,
   "source": [
    "sp_to_chr = T.get_sp_to_char(INITIAL_PIECES, arc_type='log')\n",
    "sp_to_chr"
   ],
   "outputs": [
    {
     "output_type": "execute_result",
     "data": {
      "text/plain": [
       "<kaldi.fstext._api.LogVectorFst at 0x7fdae0c54f50>"
      ],
      "image/svg+xml": "<?xml version=\"1.0\" encoding=\"UTF-8\" standalone=\"no\"?>\n<!DOCTYPE svg PUBLIC \"-//W3C//DTD SVG 1.1//EN\"\n \"http://www.w3.org/Graphics/SVG/1.1/DTD/svg11.dtd\">\n<!-- Generated by graphviz version 2.48.0 (20210717.2242)\n -->\n<!-- Title: FST Pages: 1 -->\n<svg width=\"612pt\" height=\"202pt\"\n viewBox=\"0.00 0.00 612.00 202.01\" xmlns=\"http://www.w3.org/2000/svg\" xmlns:xlink=\"http://www.w3.org/1999/xlink\">\n<g id=\"graph0\" class=\"graph\" transform=\"scale(0.63 0.63) rotate(0) translate(4 317)\">\n<title>FST</title>\n<polygon fill=\"white\" stroke=\"transparent\" points=\"-4,4 -4,-317 968.49,-317 968.49,4 -4,4\"/>\n<!-- 0 -->\n<g id=\"node1\" class=\"node\">\n<title>0</title>\n<ellipse fill=\"none\" stroke=\"black\" stroke-width=\"2\" cx=\"43\" cy=\"-159\" rx=\"18\" ry=\"18\"/>\n<ellipse fill=\"none\" stroke=\"black\" stroke-width=\"2\" cx=\"43\" cy=\"-159\" rx=\"22\" ry=\"22\"/>\n<text text-anchor=\"middle\" x=\"43\" y=\"-155.3\" font-family=\"Times,serif\" font-size=\"14.00\">0</text>\n</g>\n<!-- 0&#45;&gt;0 -->\n<g id=\"edge1\" class=\"edge\">\n<title>0&#45;&gt;0</title>\n<path fill=\"none\" stroke=\"black\" d=\"M39.59,-180.81C39.26,-190.56 40.4,-199 43,-199 44.63,-199 45.68,-195.7 46.16,-190.85\"/>\n<polygon fill=\"black\" stroke=\"black\" points=\"49.66,-190.89 46.41,-180.81 42.67,-190.72 49.66,-190.89\"/>\n<text text-anchor=\"middle\" x=\"43\" y=\"-202.8\" font-family=\"Times,serif\" font-size=\"14.00\">a:a/4.2279</text>\n</g>\n<!-- 0&#45;&gt;0 -->\n<g id=\"edge3\" class=\"edge\">\n<title>0&#45;&gt;0</title>\n<path fill=\"none\" stroke=\"black\" d=\"M37.12,-180.42C34.61,-198.31 36.57,-217 43,-217 48.23,-217 50.5,-204.66 49.82,-190.44\"/>\n<polygon fill=\"black\" stroke=\"black\" points=\"53.3,-190.04 48.88,-180.42 46.33,-190.7 53.3,-190.04\"/>\n<text text-anchor=\"middle\" x=\"43\" y=\"-220.8\" font-family=\"Times,serif\" font-size=\"14.00\">b:b/0.58132</text>\n</g>\n<!-- 0&#45;&gt;0 -->\n<g id=\"edge4\" class=\"edge\">\n<title>0&#45;&gt;0</title>\n<path fill=\"none\" stroke=\"black\" d=\"M35.53,-180.01C29.89,-205.3 32.38,-235 43,-235 52.25,-235 55.34,-212.46 52.25,-189.94\"/>\n<polygon fill=\"black\" stroke=\"black\" points=\"55.68,-189.24 50.47,-180.01 48.79,-190.47 55.68,-189.24\"/>\n<text text-anchor=\"middle\" x=\"43\" y=\"-238.8\" font-family=\"Times,serif\" font-size=\"14.00\">c:c/4.2278</text>\n</g>\n<!-- 0&#45;&gt;0 -->\n<g id=\"edge5\" class=\"edge\">\n<title>0&#45;&gt;0</title>\n<path fill=\"none\" stroke=\"black\" d=\"M34.41,-179.78C25.18,-212.03 28.04,-253 43,-253 56.44,-253 60.12,-219.93 54.03,-189.82\"/>\n<polygon fill=\"black\" stroke=\"black\" points=\"57.35,-188.67 51.59,-179.78 50.55,-190.32 57.35,-188.67\"/>\n<text text-anchor=\"middle\" x=\"43\" y=\"-256.8\" font-family=\"Times,serif\" font-size=\"14.00\">▁:▁/4.2277</text>\n</g>\n<!-- 1 -->\n<g id=\"node2\" class=\"node\">\n<title>1</title>\n<ellipse fill=\"none\" stroke=\"black\" cx=\"189\" cy=\"-218\" rx=\"18\" ry=\"18\"/>\n<text text-anchor=\"middle\" x=\"189\" y=\"-214.3\" font-family=\"Times,serif\" font-size=\"14.00\">1</text>\n</g>\n<!-- 0&#45;&gt;1 -->\n<g id=\"edge2\" class=\"edge\">\n<title>0&#45;&gt;1</title>\n<path fill=\"none\" stroke=\"black\" d=\"M64.18,-165.18C69.34,-166.75 74.87,-168.44 80,-170 113.76,-180.27 124.67,-176.75 156,-193 159.7,-194.92 163.39,-197.28 166.89,-199.78\"/>\n<polygon fill=\"black\" stroke=\"black\" points=\"165.01,-202.75 175.06,-206.11 169.29,-197.22 165.01,-202.75\"/>\n<text text-anchor=\"middle\" x=\"118\" y=\"-196.8\" font-family=\"Times,serif\" font-size=\"14.00\">a:&lt;eps&gt;</text>\n</g>\n<!-- 2 -->\n<g id=\"node3\" class=\"node\">\n<title>2</title>\n<ellipse fill=\"none\" stroke=\"black\" cx=\"189\" cy=\"-105\" rx=\"18\" ry=\"18\"/>\n<text text-anchor=\"middle\" x=\"189\" y=\"-101.3\" font-family=\"Times,serif\" font-size=\"14.00\">2</text>\n</g>\n<!-- 0&#45;&gt;2 -->\n<g id=\"edge6\" class=\"edge\">\n<title>0&#45;&gt;2</title>\n<path fill=\"none\" stroke=\"black\" d=\"M59.42,-144.03C65.43,-138.91 72.64,-133.58 80,-130 105.73,-117.48 138,-111.07 160.54,-107.9\"/>\n<polygon fill=\"black\" stroke=\"black\" points=\"161.27,-111.33 170.75,-106.59 160.38,-104.39 161.27,-111.33\"/>\n<text text-anchor=\"middle\" x=\"118\" y=\"-133.8\" font-family=\"Times,serif\" font-size=\"14.00\">▁:&lt;eps&gt;</text>\n</g>\n<!-- 1&#45;&gt;0 -->\n<g id=\"edge7\" class=\"edge\">\n<title>1&#45;&gt;0</title>\n<path fill=\"none\" stroke=\"black\" d=\"M171.02,-220.5C148.62,-222.94 108.68,-224.22 80,-208 71.36,-203.11 64.22,-195.21 58.63,-187.16\"/>\n<polygon fill=\"black\" stroke=\"black\" points=\"61.47,-185.11 53.18,-178.51 55.55,-188.84 61.47,-185.11\"/>\n<text text-anchor=\"middle\" x=\"118\" y=\"-224.8\" font-family=\"Times,serif\" font-size=\"14.00\">b:ab/1.938</text>\n</g>\n<!-- 3 -->\n<g id=\"node4\" class=\"node\">\n<title>3</title>\n<ellipse fill=\"none\" stroke=\"black\" cx=\"317\" cy=\"-105\" rx=\"18\" ry=\"18\"/>\n<text text-anchor=\"middle\" x=\"317\" y=\"-101.3\" font-family=\"Times,serif\" font-size=\"14.00\">3</text>\n</g>\n<!-- 2&#45;&gt;3 -->\n<g id=\"edge8\" class=\"edge\">\n<title>2&#45;&gt;3</title>\n<path fill=\"none\" stroke=\"black\" d=\"M207.26,-105C228.27,-105 264.03,-105 288.77,-105\"/>\n<polygon fill=\"black\" stroke=\"black\" points=\"288.95,-108.5 298.95,-105 288.95,-101.5 288.95,-108.5\"/>\n<text text-anchor=\"middle\" x=\"253\" y=\"-108.8\" font-family=\"Times,serif\" font-size=\"14.00\">a:&lt;eps&gt;</text>\n</g>\n<!-- 8 -->\n<g id=\"node5\" class=\"node\">\n<title>8</title>\n<ellipse fill=\"none\" stroke=\"black\" cx=\"317\" cy=\"-51\" rx=\"18\" ry=\"18\"/>\n<text text-anchor=\"middle\" x=\"317\" y=\"-47.3\" font-family=\"Times,serif\" font-size=\"14.00\">8</text>\n</g>\n<!-- 2&#45;&gt;8 -->\n<g id=\"edge9\" class=\"edge\">\n<title>2&#45;&gt;8</title>\n<path fill=\"none\" stroke=\"black\" d=\"M204.67,-95.54C210.01,-92.3 216.17,-88.79 222,-86 244.37,-75.3 270.94,-65.67 290.12,-59.24\"/>\n<polygon fill=\"black\" stroke=\"black\" points=\"291.27,-62.54 299.67,-56.09 289.08,-55.9 291.27,-62.54\"/>\n<text text-anchor=\"middle\" x=\"253\" y=\"-89.8\" font-family=\"Times,serif\" font-size=\"14.00\">c:&lt;eps&gt;</text>\n</g>\n<!-- 4 -->\n<g id=\"node6\" class=\"node\">\n<title>4</title>\n<ellipse fill=\"none\" stroke=\"black\" cx=\"489.5\" cy=\"-105\" rx=\"18\" ry=\"18\"/>\n<text text-anchor=\"middle\" x=\"489.5\" y=\"-101.3\" font-family=\"Times,serif\" font-size=\"14.00\">4</text>\n</g>\n<!-- 3&#45;&gt;4 -->\n<g id=\"edge10\" class=\"edge\">\n<title>3&#45;&gt;4</title>\n<path fill=\"none\" stroke=\"black\" d=\"M335.29,-105C364.98,-105 425.88,-105 461.31,-105\"/>\n<polygon fill=\"black\" stroke=\"black\" points=\"461.42,-108.5 471.42,-105 461.42,-101.5 461.42,-108.5\"/>\n<text text-anchor=\"middle\" x=\"381\" y=\"-108.8\" font-family=\"Times,serif\" font-size=\"14.00\">c:&lt;eps&gt;</text>\n</g>\n<!-- 9 -->\n<g id=\"node10\" class=\"node\">\n<title>9</title>\n<ellipse fill=\"none\" stroke=\"black\" cx=\"489.5\" cy=\"-51\" rx=\"18\" ry=\"18\"/>\n<text text-anchor=\"middle\" x=\"489.5\" y=\"-47.3\" font-family=\"Times,serif\" font-size=\"14.00\">9</text>\n</g>\n<!-- 8&#45;&gt;9 -->\n<g id=\"edge15\" class=\"edge\">\n<title>8&#45;&gt;9</title>\n<path fill=\"none\" stroke=\"black\" d=\"M335.29,-51C364.98,-51 425.88,-51 461.31,-51\"/>\n<polygon fill=\"black\" stroke=\"black\" points=\"461.42,-54.5 471.42,-51 461.42,-47.5 461.42,-54.5\"/>\n<text text-anchor=\"middle\" x=\"381\" y=\"-54.8\" font-family=\"Times,serif\" font-size=\"14.00\">a:&lt;eps&gt;</text>\n</g>\n<!-- 5 -->\n<g id=\"node7\" class=\"node\">\n<title>5</title>\n<ellipse fill=\"none\" stroke=\"black\" cx=\"666.75\" cy=\"-110\" rx=\"18\" ry=\"18\"/>\n<text text-anchor=\"middle\" x=\"666.75\" y=\"-106.3\" font-family=\"Times,serif\" font-size=\"14.00\">5</text>\n</g>\n<!-- 4&#45;&gt;5 -->\n<g id=\"edge11\" class=\"edge\">\n<title>4&#45;&gt;5</title>\n<path fill=\"none\" stroke=\"black\" d=\"M507.62,-105.49C537.98,-106.35 601.5,-108.17 638.12,-109.21\"/>\n<polygon fill=\"black\" stroke=\"black\" points=\"638.46,-112.72 648.56,-109.51 638.66,-105.73 638.46,-112.72\"/>\n<text text-anchor=\"middle\" x=\"598\" y=\"-111.8\" font-family=\"Times,serif\" font-size=\"14.00\">a:&lt;eps&gt;</text>\n</g>\n<!-- 6 -->\n<g id=\"node8\" class=\"node\">\n<title>6</title>\n<ellipse fill=\"none\" stroke=\"black\" cx=\"804.24\" cy=\"-110\" rx=\"18\" ry=\"18\"/>\n<text text-anchor=\"middle\" x=\"804.24\" y=\"-106.3\" font-family=\"Times,serif\" font-size=\"14.00\">6</text>\n</g>\n<!-- 5&#45;&gt;6 -->\n<g id=\"edge12\" class=\"edge\">\n<title>5&#45;&gt;6</title>\n<path fill=\"none\" stroke=\"black\" d=\"M684.91,-110C707.92,-110 749.01,-110 776.2,-110\"/>\n<polygon fill=\"black\" stroke=\"black\" points=\"776.22,-113.5 786.22,-110 776.22,-106.5 776.22,-113.5\"/>\n<text text-anchor=\"middle\" x=\"735.5\" y=\"-113.8\" font-family=\"Times,serif\" font-size=\"14.00\">c:&lt;eps&gt;</text>\n</g>\n<!-- 7 -->\n<g id=\"node9\" class=\"node\">\n<title>7</title>\n<ellipse fill=\"none\" stroke=\"black\" cx=\"941.74\" cy=\"-122\" rx=\"18\" ry=\"18\"/>\n<text text-anchor=\"middle\" x=\"941.74\" y=\"-118.3\" font-family=\"Times,serif\" font-size=\"14.00\">7</text>\n</g>\n<!-- 6&#45;&gt;7 -->\n<g id=\"edge13\" class=\"edge\">\n<title>6&#45;&gt;7</title>\n<path fill=\"none\" stroke=\"black\" d=\"M822.4,-111.52C845.41,-113.56 886.51,-117.2 913.7,-119.61\"/>\n<polygon fill=\"black\" stroke=\"black\" points=\"913.45,-123.1 923.72,-120.49 914.07,-116.12 913.45,-123.1\"/>\n<text text-anchor=\"middle\" x=\"872.99\" y=\"-121.8\" font-family=\"Times,serif\" font-size=\"14.00\">a:&lt;eps&gt;</text>\n</g>\n<!-- 7&#45;&gt;0 -->\n<g id=\"edge14\" class=\"edge\">\n<title>7&#45;&gt;0</title>\n<path fill=\"none\" stroke=\"black\" d=\"M924.86,-129.31C899.93,-140.09 849.87,-159 805.24,-159 188,-159 188,-159 188,-159 149.26,-159 104.65,-159 75.48,-159\"/>\n<polygon fill=\"black\" stroke=\"black\" points=\"75.47,-155.5 65.47,-159 75.47,-162.5 75.47,-155.5\"/>\n<text text-anchor=\"middle\" x=\"489.5\" y=\"-162.8\" font-family=\"Times,serif\" font-size=\"14.00\">c:▁acacac/3.2279</text>\n</g>\n<!-- 10 -->\n<g id=\"node11\" class=\"node\">\n<title>10</title>\n<ellipse fill=\"none\" stroke=\"black\" cx=\"666.75\" cy=\"-51\" rx=\"23\" ry=\"23\"/>\n<text text-anchor=\"middle\" x=\"666.75\" y=\"-47.3\" font-family=\"Times,serif\" font-size=\"14.00\">10</text>\n</g>\n<!-- 9&#45;&gt;10 -->\n<g id=\"edge16\" class=\"edge\">\n<title>9&#45;&gt;10</title>\n<path fill=\"none\" stroke=\"black\" d=\"M507.62,-51C536.78,-51 596.52,-51 633.65,-51\"/>\n<polygon fill=\"black\" stroke=\"black\" points=\"633.93,-54.5 643.93,-51 633.93,-47.5 633.93,-54.5\"/>\n<text text-anchor=\"middle\" x=\"598\" y=\"-54.8\" font-family=\"Times,serif\" font-size=\"14.00\">c:&lt;eps&gt;</text>\n</g>\n<!-- 11 -->\n<g id=\"node12\" class=\"node\">\n<title>11</title>\n<ellipse fill=\"none\" stroke=\"black\" cx=\"804.24\" cy=\"-51\" rx=\"23\" ry=\"23\"/>\n<text text-anchor=\"middle\" x=\"804.24\" y=\"-47.3\" font-family=\"Times,serif\" font-size=\"14.00\">11</text>\n</g>\n<!-- 10&#45;&gt;11 -->\n<g id=\"edge17\" class=\"edge\">\n<title>10&#45;&gt;11</title>\n<path fill=\"none\" stroke=\"black\" d=\"M689.52,-51C711.51,-51 745.75,-51 770.91,-51\"/>\n<polygon fill=\"black\" stroke=\"black\" points=\"771.08,-54.5 781.08,-51 771.08,-47.5 771.08,-54.5\"/>\n<text text-anchor=\"middle\" x=\"735.5\" y=\"-54.8\" font-family=\"Times,serif\" font-size=\"14.00\">a:&lt;eps&gt;</text>\n</g>\n<!-- 12 -->\n<g id=\"node13\" class=\"node\">\n<title>12</title>\n<ellipse fill=\"none\" stroke=\"black\" cx=\"941.74\" cy=\"-38\" rx=\"23\" ry=\"23\"/>\n<text text-anchor=\"middle\" x=\"941.74\" y=\"-34.3\" font-family=\"Times,serif\" font-size=\"14.00\">12</text>\n</g>\n<!-- 11&#45;&gt;12 -->\n<g id=\"edge18\" class=\"edge\">\n<title>11&#45;&gt;12</title>\n<path fill=\"none\" stroke=\"black\" d=\"M827.01,-48.91C849.14,-46.79 883.65,-43.48 908.85,-41.06\"/>\n<polygon fill=\"black\" stroke=\"black\" points=\"909.4,-44.52 919.02,-40.08 908.74,-37.55 909.4,-44.52\"/>\n<text text-anchor=\"middle\" x=\"872.99\" y=\"-50.8\" font-family=\"Times,serif\" font-size=\"14.00\">c:&lt;eps&gt;</text>\n</g>\n<!-- 12&#45;&gt;0 -->\n<g id=\"edge19\" class=\"edge\">\n<title>12&#45;&gt;0</title>\n<path fill=\"none\" stroke=\"black\" d=\"M920.58,-28.61C894.53,-17.35 847.51,0 805.24,0 188,0 188,0 188,0 119.13,0 74.61,-82.97 55.21,-129.04\"/>\n<polygon fill=\"black\" stroke=\"black\" points=\"51.87,-127.96 51.34,-138.54 58.35,-130.6 51.87,-127.96\"/>\n<text text-anchor=\"middle\" x=\"489.5\" y=\"-3.8\" font-family=\"Times,serif\" font-size=\"14.00\">a:▁cacaca/3.2279</text>\n</g>\n</g>\n</svg>\n"
     },
     "metadata": {},
     "execution_count": 40
    }
   ],
   "metadata": {}
  },
  {
   "cell_type": "code",
   "execution_count": 41,
   "source": [
    "sentence = 'abc a'\n",
    "# sentence = SENTENCES_BY_SPACE[3][0]\n",
    "lattice = T.get_lattice_naive(sentence, T.get_sp_to_char(INITIAL_PIECES))\n",
    "lattice"
   ],
   "outputs": [
    {
     "output_type": "execute_result",
     "data": {
      "text/plain": [
       "<kaldi.fstext._api.LogVectorFst at 0x7fdae0c65290>"
      ],
      "image/svg+xml": "<?xml version=\"1.0\" encoding=\"UTF-8\" standalone=\"no\"?>\n<!DOCTYPE svg PUBLIC \"-//W3C//DTD SVG 1.1//EN\"\n \"http://www.w3.org/Graphics/SVG/1.1/DTD/svg11.dtd\">\n<!-- Generated by graphviz version 2.48.0 (20210717.2242)\n -->\n<!-- Title: FST Pages: 1 -->\n<svg width=\"612pt\" height=\"65pt\"\n viewBox=\"0.00 0.00 612.00 65.19\" xmlns=\"http://www.w3.org/2000/svg\" xmlns:xlink=\"http://www.w3.org/1999/xlink\">\n<g id=\"graph0\" class=\"graph\" transform=\"scale(0.67 0.67) rotate(0) translate(4 94)\">\n<title>FST</title>\n<polygon fill=\"white\" stroke=\"transparent\" points=\"-4,4 -4,-94 916,-94 916,4 -4,4\"/>\n<!-- 0 -->\n<g id=\"node1\" class=\"node\">\n<title>0</title>\n<ellipse fill=\"none\" stroke=\"black\" stroke-width=\"2\" cx=\"18\" cy=\"-45\" rx=\"18\" ry=\"18\"/>\n<text text-anchor=\"middle\" x=\"18\" y=\"-41.3\" font-family=\"Times,serif\" font-size=\"14.00\">0</text>\n</g>\n<!-- 1 -->\n<g id=\"node2\" class=\"node\">\n<title>1</title>\n<ellipse fill=\"none\" stroke=\"black\" cx=\"164\" cy=\"-45\" rx=\"18\" ry=\"18\"/>\n<text text-anchor=\"middle\" x=\"164\" y=\"-41.3\" font-family=\"Times,serif\" font-size=\"14.00\">1</text>\n</g>\n<!-- 0&#45;&gt;1 -->\n<g id=\"edge1\" class=\"edge\">\n<title>0&#45;&gt;1</title>\n<path fill=\"none\" stroke=\"black\" d=\"M36.08,-45C60.66,-45 106.25,-45 135.57,-45\"/>\n<polygon fill=\"black\" stroke=\"black\" points=\"135.94,-48.5 145.94,-45 135.94,-41.5 135.94,-48.5\"/>\n<text text-anchor=\"middle\" x=\"91\" y=\"-48.8\" font-family=\"Times,serif\" font-size=\"14.00\">▁:▁/4.2277</text>\n</g>\n<!-- 2 -->\n<g id=\"node3\" class=\"node\">\n<title>2</title>\n<ellipse fill=\"none\" stroke=\"black\" cx=\"306\" cy=\"-72\" rx=\"18\" ry=\"18\"/>\n<text text-anchor=\"middle\" x=\"306\" y=\"-68.3\" font-family=\"Times,serif\" font-size=\"14.00\">2</text>\n</g>\n<!-- 1&#45;&gt;2 -->\n<g id=\"edge2\" class=\"edge\">\n<title>1&#45;&gt;2</title>\n<path fill=\"none\" stroke=\"black\" d=\"M181.89,-48.26C205.75,-52.86 249.58,-61.31 277.99,-66.79\"/>\n<polygon fill=\"black\" stroke=\"black\" points=\"277.57,-70.27 288.05,-68.73 278.9,-63.4 277.57,-70.27\"/>\n<text text-anchor=\"middle\" x=\"235\" y=\"-68.8\" font-family=\"Times,serif\" font-size=\"14.00\">a:a/4.2279</text>\n</g>\n<!-- 3 -->\n<g id=\"node4\" class=\"node\">\n<title>3</title>\n<ellipse fill=\"none\" stroke=\"black\" cx=\"306\" cy=\"-18\" rx=\"18\" ry=\"18\"/>\n<text text-anchor=\"middle\" x=\"306\" y=\"-14.3\" font-family=\"Times,serif\" font-size=\"14.00\">3</text>\n</g>\n<!-- 1&#45;&gt;3 -->\n<g id=\"edge3\" class=\"edge\">\n<title>1&#45;&gt;3</title>\n<path fill=\"none\" stroke=\"black\" d=\"M180.68,-37.69C185.79,-35.57 191.55,-33.43 197,-32 224.03,-24.89 255.85,-21.32 277.92,-19.58\"/>\n<polygon fill=\"black\" stroke=\"black\" points=\"278.18,-23.07 287.9,-18.86 277.68,-16.08 278.18,-23.07\"/>\n<text text-anchor=\"middle\" x=\"235\" y=\"-35.8\" font-family=\"Times,serif\" font-size=\"14.00\">a:&lt;eps&gt;</text>\n</g>\n<!-- 4 -->\n<g id=\"node5\" class=\"node\">\n<title>4</title>\n<ellipse fill=\"none\" stroke=\"black\" cx=\"458\" cy=\"-45\" rx=\"18\" ry=\"18\"/>\n<text text-anchor=\"middle\" x=\"458\" y=\"-41.3\" font-family=\"Times,serif\" font-size=\"14.00\">4</text>\n</g>\n<!-- 2&#45;&gt;4 -->\n<g id=\"edge4\" class=\"edge\">\n<title>2&#45;&gt;4</title>\n<path fill=\"none\" stroke=\"black\" d=\"M323.92,-68.96C349.69,-64.32 399.03,-55.43 429.85,-49.89\"/>\n<polygon fill=\"black\" stroke=\"black\" points=\"430.69,-53.29 439.92,-48.08 429.45,-46.4 430.69,-53.29\"/>\n<text text-anchor=\"middle\" x=\"382\" y=\"-69.8\" font-family=\"Times,serif\" font-size=\"14.00\">b:b/0.58132</text>\n</g>\n<!-- 3&#45;&gt;4 -->\n<g id=\"edge5\" class=\"edge\">\n<title>3&#45;&gt;4</title>\n<path fill=\"none\" stroke=\"black\" d=\"M324.1,-18.27C347.32,-19 389.96,-21.64 425,-31 427.46,-31.66 429.98,-32.48 432.46,-33.38\"/>\n<polygon fill=\"black\" stroke=\"black\" points=\"431.14,-36.63 441.72,-37.19 433.8,-30.15 431.14,-36.63\"/>\n<text text-anchor=\"middle\" x=\"382\" y=\"-34.8\" font-family=\"Times,serif\" font-size=\"14.00\">b:ab/1.938</text>\n</g>\n<!-- 5 -->\n<g id=\"node6\" class=\"node\">\n<title>5</title>\n<ellipse fill=\"none\" stroke=\"black\" cx=\"598\" cy=\"-45\" rx=\"18\" ry=\"18\"/>\n<text text-anchor=\"middle\" x=\"598\" y=\"-41.3\" font-family=\"Times,serif\" font-size=\"14.00\">5</text>\n</g>\n<!-- 4&#45;&gt;5 -->\n<g id=\"edge6\" class=\"edge\">\n<title>4&#45;&gt;5</title>\n<path fill=\"none\" stroke=\"black\" d=\"M476.2,-45C499.54,-45 541.53,-45 569.34,-45\"/>\n<polygon fill=\"black\" stroke=\"black\" points=\"569.58,-48.5 579.58,-45 569.58,-41.5 569.58,-48.5\"/>\n<text text-anchor=\"middle\" x=\"528\" y=\"-48.8\" font-family=\"Times,serif\" font-size=\"14.00\">c:c/4.2278</text>\n</g>\n<!-- 6 -->\n<g id=\"node7\" class=\"node\">\n<title>6</title>\n<ellipse fill=\"none\" stroke=\"black\" cx=\"744\" cy=\"-45\" rx=\"18\" ry=\"18\"/>\n<text text-anchor=\"middle\" x=\"744\" y=\"-41.3\" font-family=\"Times,serif\" font-size=\"14.00\">6</text>\n</g>\n<!-- 5&#45;&gt;6 -->\n<g id=\"edge7\" class=\"edge\">\n<title>5&#45;&gt;6</title>\n<path fill=\"none\" stroke=\"black\" d=\"M616.08,-45C640.66,-45 686.25,-45 715.57,-45\"/>\n<polygon fill=\"black\" stroke=\"black\" points=\"715.94,-48.5 725.94,-45 715.94,-41.5 715.94,-48.5\"/>\n<text text-anchor=\"middle\" x=\"671\" y=\"-48.8\" font-family=\"Times,serif\" font-size=\"14.00\">▁:▁/4.2277</text>\n</g>\n<!-- 7 -->\n<g id=\"node8\" class=\"node\">\n<title>7</title>\n<ellipse fill=\"none\" stroke=\"black\" cx=\"890\" cy=\"-45\" rx=\"18\" ry=\"18\"/>\n<ellipse fill=\"none\" stroke=\"black\" cx=\"890\" cy=\"-45\" rx=\"22\" ry=\"22\"/>\n<text text-anchor=\"middle\" x=\"890\" y=\"-41.3\" font-family=\"Times,serif\" font-size=\"14.00\">7</text>\n</g>\n<!-- 6&#45;&gt;7 -->\n<g id=\"edge8\" class=\"edge\">\n<title>6&#45;&gt;7</title>\n<path fill=\"none\" stroke=\"black\" d=\"M762.08,-45C785.57,-45 828.26,-45 857.59,-45\"/>\n<polygon fill=\"black\" stroke=\"black\" points=\"857.74,-48.5 867.74,-45 857.74,-41.5 857.74,-48.5\"/>\n<text text-anchor=\"middle\" x=\"815\" y=\"-48.8\" font-family=\"Times,serif\" font-size=\"14.00\">a:a/4.2279</text>\n</g>\n</g>\n</svg>\n"
     },
     "metadata": {},
     "execution_count": 41
    }
   ],
   "metadata": {}
  },
  {
   "cell_type": "code",
   "execution_count": 42,
   "source": [
    "T.compute_piece_counts_naive(sentence, T.get_sp_to_char(INITIAL_PIECES))"
   ],
   "outputs": [
    {
     "output_type": "execute_result",
     "data": {
      "text/plain": [
       "PieceCounts(Z=18.794057846069336, counts=defaultdict(<class 'float'>, {7: 2.000000476837272, 9: 1.0535966996228223, 3: 0.05359622278555041, 4: 0.9464036251483268, 8: 0.9999995231629555}))"
      ]
     },
     "metadata": {},
     "execution_count": 42
    }
   ],
   "metadata": {}
  },
  {
   "cell_type": "code",
   "execution_count": 43,
   "source": [
    "T.viterbi_naive(sentence, T.get_sp_to_char(INITIAL_PIECES, 'standard'), nshortest=2)"
   ],
   "outputs": [
    {
     "output_type": "execute_result",
     "data": {
      "text/plain": [
       "[ViterbiPath(path=[7, 4, 8, 7, 9], prob=0.9464036251483268),\n",
       " ViterbiPath(path=[7, 9, 3, 8, 7, 9], prob=0.053596248342227065)]"
      ]
     },
     "metadata": {},
     "execution_count": 43
    }
   ],
   "metadata": {}
  },
  {
   "cell_type": "code",
   "execution_count": 44,
   "source": [
    "lattice = T.get_lattice(sentence, T.get_sp_to_char(INITIAL_PIECES, 'standard'))\n",
    "lattice"
   ],
   "outputs": [
    {
     "output_type": "execute_result",
     "data": {
      "text/plain": [
       "<kaldi.fstext._api.LatticeVectorFst at 0x7fdae0c65a70>"
      ],
      "image/svg+xml": "<?xml version=\"1.0\" encoding=\"UTF-8\" standalone=\"no\"?>\n<!DOCTYPE svg PUBLIC \"-//W3C//DTD SVG 1.1//EN\"\n \"http://www.w3.org/Graphics/SVG/1.1/DTD/svg11.dtd\">\n<!-- Generated by graphviz version 2.48.0 (20210717.2242)\n -->\n<!-- Title: FST Pages: 1 -->\n<svg width=\"612pt\" height=\"60pt\"\n viewBox=\"0.00 0.00 612.00 59.86\" xmlns=\"http://www.w3.org/2000/svg\" xmlns:xlink=\"http://www.w3.org/1999/xlink\">\n<g id=\"graph0\" class=\"graph\" transform=\"scale(0.61 0.61) rotate(0) translate(4 94)\">\n<title>FST</title>\n<polygon fill=\"white\" stroke=\"transparent\" points=\"-4,4 -4,-94 998,-94 998,4 -4,4\"/>\n<!-- 0 -->\n<g id=\"node1\" class=\"node\">\n<title>0</title>\n<ellipse fill=\"none\" stroke=\"black\" stroke-width=\"2\" cx=\"18\" cy=\"-45\" rx=\"18\" ry=\"18\"/>\n<text text-anchor=\"middle\" x=\"18\" y=\"-41.3\" font-family=\"Times,serif\" font-size=\"14.00\">0</text>\n</g>\n<!-- 1 -->\n<g id=\"node2\" class=\"node\">\n<title>1</title>\n<ellipse fill=\"none\" stroke=\"black\" cx=\"178\" cy=\"-45\" rx=\"18\" ry=\"18\"/>\n<text text-anchor=\"middle\" x=\"178\" y=\"-41.3\" font-family=\"Times,serif\" font-size=\"14.00\">1</text>\n</g>\n<!-- 0&#45;&gt;1 -->\n<g id=\"edge1\" class=\"edge\">\n<title>0&#45;&gt;1</title>\n<path fill=\"none\" stroke=\"black\" d=\"M36.21,-45C63.52,-45 117.01,-45 149.62,-45\"/>\n<polygon fill=\"black\" stroke=\"black\" points=\"149.81,-48.5 159.81,-45 149.81,-41.5 149.81,-48.5\"/>\n<text text-anchor=\"middle\" x=\"98\" y=\"-48.8\" font-family=\"Times,serif\" font-size=\"14.00\">▁:▁/4.2277,0</text>\n</g>\n<!-- 3 -->\n<g id=\"node3\" class=\"node\">\n<title>3</title>\n<ellipse fill=\"none\" stroke=\"black\" cx=\"333\" cy=\"-72\" rx=\"18\" ry=\"18\"/>\n<text text-anchor=\"middle\" x=\"333\" y=\"-68.3\" font-family=\"Times,serif\" font-size=\"14.00\">3</text>\n</g>\n<!-- 1&#45;&gt;3 -->\n<g id=\"edge2\" class=\"edge\">\n<title>1&#45;&gt;3</title>\n<path fill=\"none\" stroke=\"black\" d=\"M195.96,-47.99C222.38,-52.66 273.61,-61.7 305.1,-67.25\"/>\n<polygon fill=\"black\" stroke=\"black\" points=\"304.51,-70.7 314.97,-68.99 305.73,-63.81 304.51,-70.7\"/>\n<text text-anchor=\"middle\" x=\"255.5\" y=\"-69.8\" font-family=\"Times,serif\" font-size=\"14.00\">a:&lt;eps&gt;</text>\n</g>\n<!-- 2 -->\n<g id=\"node4\" class=\"node\">\n<title>2</title>\n<ellipse fill=\"none\" stroke=\"black\" cx=\"333\" cy=\"-18\" rx=\"18\" ry=\"18\"/>\n<text text-anchor=\"middle\" x=\"333\" y=\"-14.3\" font-family=\"Times,serif\" font-size=\"14.00\">2</text>\n</g>\n<!-- 1&#45;&gt;2 -->\n<g id=\"edge3\" class=\"edge\">\n<title>1&#45;&gt;2</title>\n<path fill=\"none\" stroke=\"black\" d=\"M194.28,-37.18C199.47,-34.84 205.37,-32.49 211,-31 242.48,-22.63 279.93,-19.63 304.74,-18.56\"/>\n<polygon fill=\"black\" stroke=\"black\" points=\"305,-22.06 314.87,-18.21 304.75,-15.06 305,-22.06\"/>\n<text text-anchor=\"middle\" x=\"255.5\" y=\"-34.8\" font-family=\"Times,serif\" font-size=\"14.00\">a:a/4.2279,0</text>\n</g>\n<!-- 4 -->\n<g id=\"node5\" class=\"node\">\n<title>4</title>\n<ellipse fill=\"none\" stroke=\"black\" cx=\"499\" cy=\"-45\" rx=\"18\" ry=\"18\"/>\n<text text-anchor=\"middle\" x=\"499\" y=\"-41.3\" font-family=\"Times,serif\" font-size=\"14.00\">4</text>\n</g>\n<!-- 3&#45;&gt;4 -->\n<g id=\"edge5\" class=\"edge\">\n<title>3&#45;&gt;4</title>\n<path fill=\"none\" stroke=\"black\" d=\"M350.93,-69.21C379.29,-64.54 436.62,-55.1 470.72,-49.49\"/>\n<polygon fill=\"black\" stroke=\"black\" points=\"471.61,-52.89 480.91,-47.81 470.48,-45.98 471.61,-52.89\"/>\n<text text-anchor=\"middle\" x=\"416\" y=\"-69.8\" font-family=\"Times,serif\" font-size=\"14.00\">b:ab/1.938,0</text>\n</g>\n<!-- 2&#45;&gt;4 -->\n<g id=\"edge4\" class=\"edge\">\n<title>2&#45;&gt;4</title>\n<path fill=\"none\" stroke=\"black\" d=\"M351.39,-17.99C376.93,-18.36 425.89,-20.53 466,-31 468.46,-31.64 470.98,-32.45 473.47,-33.36\"/>\n<polygon fill=\"black\" stroke=\"black\" points=\"472.15,-36.6 482.73,-37.15 474.8,-30.12 472.15,-36.6\"/>\n<text text-anchor=\"middle\" x=\"416\" y=\"-34.8\" font-family=\"Times,serif\" font-size=\"14.00\">b:b/0.58132,0</text>\n</g>\n<!-- 5 -->\n<g id=\"node6\" class=\"node\">\n<title>5</title>\n<ellipse fill=\"none\" stroke=\"black\" cx=\"653\" cy=\"-45\" rx=\"18\" ry=\"18\"/>\n<text text-anchor=\"middle\" x=\"653\" y=\"-41.3\" font-family=\"Times,serif\" font-size=\"14.00\">5</text>\n</g>\n<!-- 4&#45;&gt;5 -->\n<g id=\"edge6\" class=\"edge\">\n<title>4&#45;&gt;5</title>\n<path fill=\"none\" stroke=\"black\" d=\"M517.14,-45C543.25,-45 593.26,-45 624.49,-45\"/>\n<polygon fill=\"black\" stroke=\"black\" points=\"624.69,-48.5 634.69,-45 624.69,-41.5 624.69,-48.5\"/>\n<text text-anchor=\"middle\" x=\"576\" y=\"-48.8\" font-family=\"Times,serif\" font-size=\"14.00\">c:c/4.2278,0</text>\n</g>\n<!-- 6 -->\n<g id=\"node7\" class=\"node\">\n<title>6</title>\n<ellipse fill=\"none\" stroke=\"black\" cx=\"813\" cy=\"-45\" rx=\"18\" ry=\"18\"/>\n<text text-anchor=\"middle\" x=\"813\" y=\"-41.3\" font-family=\"Times,serif\" font-size=\"14.00\">6</text>\n</g>\n<!-- 5&#45;&gt;6 -->\n<g id=\"edge7\" class=\"edge\">\n<title>5&#45;&gt;6</title>\n<path fill=\"none\" stroke=\"black\" d=\"M671.21,-45C698.52,-45 752.01,-45 784.62,-45\"/>\n<polygon fill=\"black\" stroke=\"black\" points=\"784.81,-48.5 794.81,-45 784.81,-41.5 784.81,-48.5\"/>\n<text text-anchor=\"middle\" x=\"733\" y=\"-48.8\" font-family=\"Times,serif\" font-size=\"14.00\">▁:▁/4.2277,0</text>\n</g>\n<!-- 7 -->\n<g id=\"node8\" class=\"node\">\n<title>7</title>\n<ellipse fill=\"none\" stroke=\"black\" cx=\"972\" cy=\"-45\" rx=\"18\" ry=\"18\"/>\n<ellipse fill=\"none\" stroke=\"black\" cx=\"972\" cy=\"-45\" rx=\"22\" ry=\"22\"/>\n<text text-anchor=\"middle\" x=\"972\" y=\"-41.3\" font-family=\"Times,serif\" font-size=\"14.00\">7</text>\n</g>\n<!-- 6&#45;&gt;7 -->\n<g id=\"edge8\" class=\"edge\">\n<title>6&#45;&gt;7</title>\n<path fill=\"none\" stroke=\"black\" d=\"M831.1,-45C857.09,-45 906.96,-45 939.59,-45\"/>\n<polygon fill=\"black\" stroke=\"black\" points=\"939.94,-48.5 949.94,-45 939.94,-41.5 939.94,-48.5\"/>\n<text text-anchor=\"middle\" x=\"890.5\" y=\"-48.8\" font-family=\"Times,serif\" font-size=\"14.00\">a:a/4.2279,0</text>\n</g>\n</g>\n</svg>\n"
     },
     "metadata": {},
     "execution_count": 44
    }
   ],
   "metadata": {}
  },
  {
   "cell_type": "code",
   "execution_count": 45,
   "source": [
    "T.compute_piece_counts(sentence, T.get_sp_to_char(INITIAL_PIECES, 'standard'))"
   ],
   "outputs": [
    {
     "output_type": "execute_result",
     "data": {
      "text/plain": [
       "PieceCounts(Z=18.794057846069336, counts=defaultdict(<class 'float'>, {7: 2.000000476837272, 9: 1.0535966996228223, 3: 0.05359622278555041, 4: 0.9464036251483268, 8: 0.9999995231629555}))"
      ]
     },
     "metadata": {},
     "execution_count": 45
    }
   ],
   "metadata": {}
  },
  {
   "cell_type": "code",
   "execution_count": 46,
   "source": [
    "T.viterbi(sentence, T.get_sp_to_char(INITIAL_PIECES, 'standard'), nshortest=2)"
   ],
   "outputs": [
    {
     "output_type": "execute_result",
     "data": {
      "text/plain": [
       "[ViterbiPath(path=[7, 4, 8, 7, 9], prob=0.9464036251483268),\n",
       " ViterbiPath(path=[7, 9, 3, 8, 7, 9], prob=0.053596248342227065)]"
      ]
     },
     "metadata": {},
     "execution_count": 46
    }
   ],
   "metadata": {}
  },
  {
   "cell_type": "code",
   "execution_count": 47,
   "source": [
    "# TODO: verify why EM returns different results, when our Viterbi seems to be OK\n",
    "assert len(sp.tokenize(SENTENCES[0][0])) == len(T.viterbi(SENTENCES[0][0], T.get_sp_to_char(INITIAL_PIECES, 'standard'), nshortest=2)[0][0])\n",
    "print(list(zip(sp.tokenize(SENTENCES[0][0]), T.viterbi(SENTENCES[0][0], T.get_sp_to_char(INITIAL_PIECES, 'standard'), nshortest=2)[0][0])))"
   ],
   "outputs": [
    {
     "output_type": "stream",
     "name": "stdout",
     "text": [
      "[(7, 7), (4, 4), (4, 4), (4, 4), (9, 9), (4, 4), (3, 3), (7, 7), (4, 4), (8, 8), (4, 4), (8, 8), (4, 4), (8, 8), (4, 4), (8, 8), (4, 4), (8, 8), (4, 4), (7, 7), (9, 9), (8, 8), (7, 7), (9, 9), (8, 8), (9, 9), (8, 8), (5, 5), (5, 5), (9, 9), (8, 8), (9, 9), (8, 8), (9, 9), (8, 8), (7, 7), (8, 8), (9, 9), (7, 7), (8, 8), (9, 9), (8, 8), (9, 9), (6, 6), (6, 6), (8, 8), (9, 9), (8, 8), (9, 9), (8, 8), (9, 9), (8, 8), (9, 9), (8, 8), (9, 9)]\n"
     ]
    }
   ],
   "metadata": {}
  },
  {
   "cell_type": "code",
   "execution_count": 48,
   "source": [
    "for S, _ in SENTENCES_BY_SPACE[:10]:\n",
    "    assert len(sp.tokenize(S)) == len(T.viterbi(S, T.get_sp_to_char(INITIAL_PIECES, 'standard'), nshortest=2)[0][0])\n",
    "    print(list(zip(sp.tokenize(S), T.viterbi(S, T.get_sp_to_char(INITIAL_PIECES, 'standard'), nshortest=2)[0][0])))"
   ],
   "outputs": [
    {
     "output_type": "stream",
     "name": "stdout",
     "text": [
      "[(7, 7), (4, 4), (4, 4), (4, 4), (9, 9), (4, 4), (3, 3)]\n",
      "[(7, 7), (4, 4), (8, 8), (4, 4), (8, 8), (4, 4), (8, 8), (4, 4), (8, 8), (4, 4), (8, 8), (4, 4)]\n",
      "[(7, 7), (9, 9), (8, 8)]\n",
      "[(7, 7), (9, 9), (8, 8), (9, 9), (8, 8)]\n",
      "[(5, 5)]\n",
      "[(5, 5), (9, 9), (8, 8), (9, 9), (8, 8), (9, 9), (8, 8)]\n",
      "[(7, 7), (8, 8), (9, 9)]\n",
      "[(7, 7), (8, 8), (9, 9), (8, 8), (9, 9)]\n",
      "[(6, 6)]\n",
      "[(6, 6), (8, 8), (9, 9), (8, 8), (9, 9), (8, 8), (9, 9), (8, 8), (9, 9), (8, 8), (9, 9)]\n"
     ]
    }
   ],
   "metadata": {}
  },
  {
   "cell_type": "code",
   "execution_count": 49,
   "source": [
    "# Sentencepiece training\n",
    "pieces = INITIAL_PIECES\n",
    "pieces = [SentencePiece(index=3, symbol=\"a\", log_freq=-3.865555), SentencePiece(index=4, symbol=\"c\", log_freq=-4.042485), SentencePiece(index=5, symbol=\"b\", log_freq=-5.078577), SentencePiece(index=6, symbol=\"▁\", log_freq=-5.173887), SentencePiece(index=7, symbol=\"acacac\", log_freq=-3.382128), SentencePiece(index=8, symbol=\"acaca\", log_freq=-3.382128), SentencePiece(index=9, symbol=\"acac\", log_freq=-3.382128), SentencePiece(index=10, symbol=\"cacaca\", log_freq=-3.382128), SentencePiece(index=11, symbol=\"cacac\", log_freq=-3.382128), SentencePiece(index=12, symbol=\"caca\", log_freq=-3.382128), SentencePiece(index=13, symbol=\"acacacac\", log_freq=-3.451121), SentencePiece(index=14, symbol=\"acacaca\", log_freq=-3.451121), SentencePiece(index=15, symbol=\"cacacaca\", log_freq=-3.451121), SentencePiece(index=16, symbol=\"cacacac\", log_freq=-3.451121), SentencePiece(index=17, symbol=\"acacacaca\", log_freq=-3.487488), SentencePiece(index=18, symbol=\"aca\", log_freq=-3.487488), SentencePiece(index=19, symbol=\"cacacacac\", log_freq=-3.487488), SentencePiece(index=20, symbol=\"cac\", log_freq=-3.487488), SentencePiece(index=21, symbol=\"ca\", log_freq=-3.487488), SentencePiece(index=22, symbol=\"acacacacac\", log_freq=-3.564449), SentencePiece(index=23, symbol=\"cacacacaca\", log_freq=-3.564449), SentencePiece(index=24, symbol=\"acacacacaca\", log_freq=-3.692283), SentencePiece(index=25, symbol=\"ac\", log_freq=-3.692283), SentencePiece(index=26, symbol=\"cacacacacac\", log_freq=-3.692283), SentencePiece(index=27, symbol=\"acacacacacac\", log_freq=-3.892953), SentencePiece(index=28, symbol=\"cacacacacaca\", log_freq=-3.892953), SentencePiece(index=29, symbol=\"abcabcabcab\", log_freq=-3.979965), SentencePiece(index=30, symbol=\"abcabcab\", log_freq=-4.010736), SentencePiece(index=31, symbol=\"bcabcabcab\", log_freq=-4.075275), SentencePiece(index=32, symbol=\"abcabcabcabcab\", log_freq=-4.144268), SentencePiece(index=33, symbol=\"bcabcab\", log_freq=-4.144268), SentencePiece(index=34, symbol=\"cacacacacacaca\", log_freq=-4.144268), SentencePiece(index=35, symbol=\"cabcabcab\", log_freq=-4.180635), SentencePiece(index=36, symbol=\"acacacacacaca\", log_freq=-4.218376), SentencePiece(index=37, symbol=\"bcabcabcabcab\", log_freq=-4.218376), SentencePiece(index=38, symbol=\"abcab\", log_freq=-4.257596), SentencePiece(index=39, symbol=\"cabcabcabcab\", log_freq=-4.298419), SentencePiece(index=40, symbol=\"cabcab\", log_freq=-4.298419), SentencePiece(index=41, symbol=\"ab\", log_freq=-4.480740), SentencePiece(index=42, symbol=\"bcab\", log_freq=-4.480740), SentencePiece(index=43, symbol=\"cab\", log_freq=-4.768422), SentencePiece(index=44, symbol=\"▁acac\", log_freq=-4.768422), SentencePiece(index=45, symbol=\"▁caca\", log_freq=-4.768422), SentencePiece(index=46, symbol=\"▁acacac\", log_freq=-4.837415), SentencePiece(index=47, symbol=\"▁cacaca\", log_freq=-4.837415), SentencePiece(index=48, symbol=\"▁ac\", log_freq=-4.991566), SentencePiece(index=49, symbol=\"▁a\", log_freq=-4.991566), SentencePiece(index=50, symbol=\"▁ca\", log_freq=-4.991566), SentencePiece(index=51, symbol=\"ababa\", log_freq=-5.173887), SentencePiece(index=52, symbol=\"aba\", log_freq=-5.279248), SentencePiece(index=53, symbol=\"baba\", log_freq=-5.397031), SentencePiece(index=54, symbol=\"ba\", log_freq=-5.684713), SentencePiece(index=55, symbol=\"▁ab\", log_freq=-5.684713)]\n",
    "sentences = SENTENCES_BY_SPACE\n",
    "\n",
    "DESIRED_PIECES = 5\n",
    "PRUNE_FRAC = 0.85\n",
    "NUM_SUBITER = 10\n",
    "\n",
    "while True:\n",
    "    # EM Step\n",
    "    for sub_iter in range(NUM_SUBITER):  # num_sub_iterations\n",
    "#         print(\"\\n\".join(map(str, pieces)))\n",
    "        e_ret = T.EStep(pieces, sentences)\n",
    "        \n",
    "        pieces = T.MStep(pieces, e_ret.counts)\n",
    "        print(f\"EM sub_iter={sub_iter} size={len(pieces)} tot_piece_prob={np.exp(logsumexp([piece.log_freq for piece in pieces]))} \"\n",
    "              f\"obj={e_ret.objective} num_tokens={e_ret.n_tokens} num_tokens/piece={e_ret.n_tokens / len(pieces)}\" )\n",
    "    \n",
    "    if len(pieces) <= DESIRED_PIECES:\n",
    "        break\n",
    "\n",
    "#     print(\"\\n\".join(map(str, pieces)) + '\\n')\n",
    "    pieces = T.prune_pieces(pieces, sentences, DESIRED_PIECES, PRUNE_FRAC)\n",
    "#     print(\"\\n\".join(map(str, pieces)))\n",
    "    if len(pieces) <= DESIRED_PIECES:\n",
    "        break\n",
    "        \n",
    "# TODO: add finalization"
   ],
   "outputs": [
    {
     "output_type": "stream",
     "name": "stdout",
     "text": [
      "EM sub_iter=0 size=14 tot_piece_prob=0.7187162330716661 obj=7.393380832672119 num_tokens=17 num_tokens/piece=1.2142857142857142\n",
      "EM sub_iter=1 size=13 tot_piece_prob=2.0314847269695666 obj=28.879104495048523 num_tokens=39 num_tokens/piece=3.0\n",
      "EM sub_iter=2 size=12 tot_piece_prob=3.2883543242356077 obj=4.850144910812378 num_tokens=41 num_tokens/piece=3.4166666666666665\n",
      "EM sub_iter=3 size=12 tot_piece_prob=3.4546042955637675 obj=4.217644619941711 num_tokens=41 num_tokens/piece=3.4166666666666665\n",
      "EM sub_iter=4 size=12 tot_piece_prob=3.685443803671188 obj=3.8463905811309815 num_tokens=45 num_tokens/piece=3.75\n",
      "EM sub_iter=5 size=10 tot_piece_prob=4.192867893668024 obj=3.3277851581573485 num_tokens=61 num_tokens/piece=6.1\n",
      "EM sub_iter=6 size=8 tot_piece_prob=4.712837176691308 obj=2.199039700627327 num_tokens=61 num_tokens/piece=7.625\n",
      "EM sub_iter=7 size=8 tot_piece_prob=5.019463833306406 obj=1.1381250619888306 num_tokens=61 num_tokens/piece=7.625\n"
     ]
    },
    {
     "output_type": "stream",
     "name": "stderr",
     "text": [
      "ERROR:root:State id -1 not valid\n"
     ]
    },
    {
     "output_type": "stream",
     "name": "stdout",
     "text": [
      "EM sub_iter=8 size=8 tot_piece_prob=5.44536916979087 obj=0.5691704988479614 num_tokens=61 num_tokens/piece=7.625\n",
      "EM sub_iter=9 size=8 tot_piece_prob=6.071337919591415 obj=-0.17064603567123413 num_tokens=69 num_tokens/piece=8.625\n"
     ]
    },
    {
     "output_type": "error",
     "ename": "IndexError",
     "evalue": "State index out of range",
     "traceback": [
      "\u001b[0;31m---------------------------------------------------------------------------\u001b[0m",
      "\u001b[0;31mIndexError\u001b[0m                                Traceback (most recent call last)",
      "\u001b[0;32m/pio/scratch/1/i290956/tmp/ipykernel_1439320/253061087.py\u001b[0m in \u001b[0;36m<module>\u001b[0;34m\u001b[0m\n\u001b[1;32m     22\u001b[0m \u001b[0;34m\u001b[0m\u001b[0m\n\u001b[1;32m     23\u001b[0m \u001b[0;31m#     print(\"\\n\".join(map(str, pieces)) + '\\n')\u001b[0m\u001b[0;34m\u001b[0m\u001b[0;34m\u001b[0m\u001b[0;34m\u001b[0m\u001b[0m\n\u001b[0;32m---> 24\u001b[0;31m     \u001b[0mpieces\u001b[0m \u001b[0;34m=\u001b[0m \u001b[0mT\u001b[0m\u001b[0;34m.\u001b[0m\u001b[0mprune_pieces\u001b[0m\u001b[0;34m(\u001b[0m\u001b[0mpieces\u001b[0m\u001b[0;34m,\u001b[0m \u001b[0msentences\u001b[0m\u001b[0;34m,\u001b[0m \u001b[0mDESIRED_PIECES\u001b[0m\u001b[0;34m,\u001b[0m \u001b[0mPRUNE_FRAC\u001b[0m\u001b[0;34m)\u001b[0m\u001b[0;34m\u001b[0m\u001b[0;34m\u001b[0m\u001b[0m\n\u001b[0m\u001b[1;32m     25\u001b[0m \u001b[0;31m#     print(\"\\n\".join(map(str, pieces)))\u001b[0m\u001b[0;34m\u001b[0m\u001b[0;34m\u001b[0m\u001b[0;34m\u001b[0m\u001b[0m\n\u001b[1;32m     26\u001b[0m     \u001b[0;32mif\u001b[0m \u001b[0mlen\u001b[0m\u001b[0;34m(\u001b[0m\u001b[0mpieces\u001b[0m\u001b[0;34m)\u001b[0m \u001b[0;34m<=\u001b[0m \u001b[0mDESIRED_PIECES\u001b[0m\u001b[0;34m:\u001b[0m\u001b[0;34m\u001b[0m\u001b[0;34m\u001b[0m\u001b[0m\n",
      "\u001b[0;32m/pio/scratch/1/i290956/zs2021/simi/fst_sp/kaldi_fst_sp.py\u001b[0m in \u001b[0;36mprune_pieces\u001b[0;34m(self, pieces, sentences, desired_size, prune_frac)\u001b[0m\n\u001b[1;32m    311\u001b[0m         \u001b[0malternatives\u001b[0m \u001b[0;34m=\u001b[0m \u001b[0;34m{\u001b[0m\u001b[0;34m}\u001b[0m\u001b[0;34m\u001b[0m\u001b[0;34m\u001b[0m\u001b[0m\n\u001b[1;32m    312\u001b[0m         \u001b[0;32mfor\u001b[0m \u001b[0mpiece\u001b[0m \u001b[0;32min\u001b[0m \u001b[0mpieces\u001b[0m\u001b[0;34m:\u001b[0m\u001b[0;34m\u001b[0m\u001b[0;34m\u001b[0m\u001b[0m\n\u001b[0;32m--> 313\u001b[0;31m             \u001b[0mnbest\u001b[0m \u001b[0;34m=\u001b[0m \u001b[0mself\u001b[0m\u001b[0;34m.\u001b[0m\u001b[0mviterbi_naive\u001b[0m\u001b[0;34m(\u001b[0m\u001b[0mpiece\u001b[0m\u001b[0;34m.\u001b[0m\u001b[0msymbol\u001b[0m\u001b[0;34m,\u001b[0m \u001b[0msp_to_char\u001b[0m\u001b[0;34m,\u001b[0m \u001b[0mnshortest\u001b[0m\u001b[0;34m=\u001b[0m\u001b[0;36m2\u001b[0m\u001b[0;34m,\u001b[0m \u001b[0mnormalize_probs\u001b[0m\u001b[0;34m=\u001b[0m\u001b[0;32mFalse\u001b[0m\u001b[0;34m,\u001b[0m \u001b[0mprepend_space\u001b[0m\u001b[0;34m=\u001b[0m\u001b[0;32mFalse\u001b[0m\u001b[0;34m)\u001b[0m\u001b[0;34m\u001b[0m\u001b[0;34m\u001b[0m\u001b[0m\n\u001b[0m\u001b[1;32m    314\u001b[0m             \u001b[0;32mif\u001b[0m \u001b[0mlen\u001b[0m\u001b[0;34m(\u001b[0m\u001b[0mnbest\u001b[0m\u001b[0;34m)\u001b[0m \u001b[0;34m==\u001b[0m \u001b[0;36m1\u001b[0m\u001b[0;34m:\u001b[0m\u001b[0;34m\u001b[0m\u001b[0;34m\u001b[0m\u001b[0m\n\u001b[1;32m    315\u001b[0m                 \u001b[0malways_keep\u001b[0m\u001b[0;34m[\u001b[0m\u001b[0mpiece\u001b[0m\u001b[0;34m.\u001b[0m\u001b[0mindex\u001b[0m\u001b[0;34m]\u001b[0m \u001b[0;34m=\u001b[0m \u001b[0;32mTrue\u001b[0m\u001b[0;34m\u001b[0m\u001b[0;34m\u001b[0m\u001b[0m\n",
      "\u001b[0;32m/pio/scratch/1/i290956/zs2021/simi/fst_sp/kaldi_fst_sp.py\u001b[0m in \u001b[0;36mviterbi_naive\u001b[0;34m(self, sentence_text, sp_to_char, nshortest, normalize_probs, prepend_space)\u001b[0m\n\u001b[1;32m    262\u001b[0m             \u001b[0;32mreturn\u001b[0m \u001b[0mret\u001b[0m\u001b[0;34m\u001b[0m\u001b[0;34m\u001b[0m\u001b[0m\n\u001b[1;32m    263\u001b[0m \u001b[0;34m\u001b[0m\u001b[0m\n\u001b[0;32m--> 264\u001b[0;31m         \u001b[0;32mreturn\u001b[0m \u001b[0mdump_best_path\u001b[0m\u001b[0;34m(\u001b[0m\u001b[0mnbest\u001b[0m\u001b[0;34m.\u001b[0m\u001b[0mstart\u001b[0m\u001b[0;34m(\u001b[0m\u001b[0;34m)\u001b[0m\u001b[0;34m,\u001b[0m \u001b[0;34m[\u001b[0m\u001b[0;34m]\u001b[0m\u001b[0;34m,\u001b[0m \u001b[0;36m0.0\u001b[0m\u001b[0;34m)\u001b[0m\u001b[0;34m\u001b[0m\u001b[0;34m\u001b[0m\u001b[0m\n\u001b[0m\u001b[1;32m    265\u001b[0m \u001b[0;34m\u001b[0m\u001b[0m\n\u001b[1;32m    266\u001b[0m \u001b[0;34m\u001b[0m\u001b[0m\n",
      "\u001b[0;32m/pio/scratch/1/i290956/zs2021/simi/fst_sp/kaldi_fst_sp.py\u001b[0m in \u001b[0;36mdump_best_path\u001b[0;34m(state, prefix, log_prob)\u001b[0m\n\u001b[1;32m    246\u001b[0m         \u001b[0;32mdef\u001b[0m \u001b[0mdump_best_path\u001b[0m\u001b[0;34m(\u001b[0m\u001b[0mstate\u001b[0m\u001b[0;34m,\u001b[0m \u001b[0mprefix\u001b[0m\u001b[0;34m,\u001b[0m \u001b[0mlog_prob\u001b[0m\u001b[0;34m)\u001b[0m\u001b[0;34m:\u001b[0m\u001b[0;34m\u001b[0m\u001b[0;34m\u001b[0m\u001b[0m\n\u001b[1;32m    247\u001b[0m             \u001b[0mret\u001b[0m \u001b[0;34m=\u001b[0m \u001b[0;34m[\u001b[0m\u001b[0;34m]\u001b[0m\u001b[0;34m\u001b[0m\u001b[0;34m\u001b[0m\u001b[0m\n\u001b[0;32m--> 248\u001b[0;31m             \u001b[0;32mif\u001b[0m \u001b[0mnbest\u001b[0m\u001b[0;34m.\u001b[0m\u001b[0mfinal\u001b[0m\u001b[0;34m(\u001b[0m\u001b[0mstate\u001b[0m\u001b[0;34m)\u001b[0m \u001b[0;34m!=\u001b[0m \u001b[0mweight_zero\u001b[0m\u001b[0;34m:\u001b[0m\u001b[0;34m\u001b[0m\u001b[0;34m\u001b[0m\u001b[0m\n\u001b[0m\u001b[1;32m    249\u001b[0m                 \u001b[0mret\u001b[0m \u001b[0;34m=\u001b[0m \u001b[0;34m[\u001b[0m\u001b[0mViterbiPath\u001b[0m\u001b[0;34m(\u001b[0m\u001b[0mlist\u001b[0m\u001b[0;34m(\u001b[0m\u001b[0mprefix\u001b[0m\u001b[0;34m)\u001b[0m\u001b[0;34m,\u001b[0m \u001b[0mnp\u001b[0m\u001b[0;34m.\u001b[0m\u001b[0mexp\u001b[0m\u001b[0;34m(\u001b[0m\u001b[0mZ\u001b[0m \u001b[0;34m-\u001b[0m\u001b[0mlog_prob\u001b[0m \u001b[0;34m-\u001b[0m\u001b[0mnbest\u001b[0m\u001b[0;34m.\u001b[0m\u001b[0mfinal\u001b[0m\u001b[0;34m(\u001b[0m\u001b[0mstate\u001b[0m\u001b[0;34m)\u001b[0m\u001b[0;34m.\u001b[0m\u001b[0mvalue\u001b[0m\u001b[0;34m)\u001b[0m\u001b[0;34m)\u001b[0m\u001b[0;34m]\u001b[0m\u001b[0;34m\u001b[0m\u001b[0;34m\u001b[0m\u001b[0m\n\u001b[1;32m    250\u001b[0m \u001b[0;34m\u001b[0m\u001b[0m\n",
      "\u001b[0;32m/pio/scratch/1/i290956/miniconda3/envs/202108-pykaldi-c11/lib/python3.7/site-packages/kaldi/fstext/_api.py\u001b[0m in \u001b[0;36mfinal\u001b[0;34m(self, state)\u001b[0m\n\u001b[1;32m    357\u001b[0m         \"\"\"\n\u001b[1;32m    358\u001b[0m         \u001b[0;32mif\u001b[0m \u001b[0;32mnot\u001b[0m \u001b[0mself\u001b[0m\u001b[0;34m.\u001b[0m\u001b[0m_valid_state_id\u001b[0m\u001b[0;34m(\u001b[0m\u001b[0mstate\u001b[0m\u001b[0;34m)\u001b[0m\u001b[0;34m:\u001b[0m\u001b[0;34m\u001b[0m\u001b[0;34m\u001b[0m\u001b[0m\n\u001b[0;32m--> 359\u001b[0;31m             \u001b[0;32mraise\u001b[0m \u001b[0mIndexError\u001b[0m\u001b[0;34m(\u001b[0m\u001b[0;34m\"State index out of range\"\u001b[0m\u001b[0;34m)\u001b[0m\u001b[0;34m\u001b[0m\u001b[0;34m\u001b[0m\u001b[0m\n\u001b[0m\u001b[1;32m    360\u001b[0m         \u001b[0;32mreturn\u001b[0m \u001b[0mself\u001b[0m\u001b[0;34m.\u001b[0m\u001b[0m_final\u001b[0m\u001b[0;34m(\u001b[0m\u001b[0mstate\u001b[0m\u001b[0;34m)\u001b[0m\u001b[0;34m\u001b[0m\u001b[0;34m\u001b[0m\u001b[0m\n\u001b[1;32m    361\u001b[0m \u001b[0;34m\u001b[0m\u001b[0m\n",
      "\u001b[0;31mIndexError\u001b[0m: State index out of range"
     ]
    }
   ],
   "metadata": {}
  },
  {
   "cell_type": "code",
   "execution_count": 50,
   "source": [
    "FINAL_PIECES"
   ],
   "outputs": [
    {
     "output_type": "execute_result",
     "data": {
      "text/plain": [
       "[SentencePiece(index=0, symbol='<unk>', log_freq=0.0),\n",
       " SentencePiece(index=1, symbol='<s>', log_freq=0.0),\n",
       " SentencePiece(index=2, symbol='</s>', log_freq=0.0),\n",
       " SentencePiece(index=3, symbol='b', log_freq=-0.4352858066558838),\n",
       " SentencePiece(index=4, symbol='ab', log_freq=-2.0434062480926514),\n",
       " SentencePiece(index=5, symbol='▁', log_freq=-4.326545715332031),\n",
       " SentencePiece(index=6, symbol='c', log_freq=-4.326645374298096),\n",
       " SentencePiece(index=7, symbol='a', log_freq=-4.326745510101318)]"
      ]
     },
     "metadata": {},
     "execution_count": 50
    }
   ],
   "metadata": {}
  },
  {
   "cell_type": "code",
   "execution_count": 51,
   "source": [
    "pieces"
   ],
   "outputs": [
    {
     "output_type": "execute_result",
     "data": {
      "text/plain": [
       "[SentencePiece(index=3, symbol='a', log_freq=0.6478899231436386),\n",
       " SentencePiece(index=4, symbol='c', log_freq=0.5986057147433228),\n",
       " SentencePiece(index=5, symbol='b', log_freq=-0.7843604578442953),\n",
       " SentencePiece(index=6, symbol='▁', log_freq=0.0),\n",
       " SentencePiece(index=41, symbol='ab', log_freq=-1.647753876581664),\n",
       " SentencePiece(index=48, symbol='▁ac', log_freq=-1.2588741736036968),\n",
       " SentencePiece(index=50, symbol='▁ca', log_freq=-1.2588741736036968),\n",
       " SentencePiece(index=55, symbol='▁ab', log_freq=-2.0922076176534947)]"
      ]
     },
     "metadata": {},
     "execution_count": 51
    }
   ],
   "metadata": {}
  },
  {
   "cell_type": "code",
   "execution_count": null,
   "source": [],
   "outputs": [],
   "metadata": {}
  },
  {
   "cell_type": "code",
   "execution_count": null,
   "source": [],
   "outputs": [],
   "metadata": {}
  }
 ],
 "metadata": {
  "kernelspec": {
   "name": "python3",
   "display_name": "Python 3.7.11 64-bit ('202108-pykaldi-c11': conda)"
  },
  "language_info": {
   "codemirror_mode": {
    "name": "ipython",
    "version": 3
   },
   "file_extension": ".py",
   "mimetype": "text/x-python",
   "name": "python",
   "nbconvert_exporter": "python",
   "pygments_lexer": "ipython3",
   "version": "3.7.11"
  },
  "interpreter": {
   "hash": "fe1a36fcd33540fccfd057227f1d903d90fc61f2fcb344b47c82e2734d9e2043"
  }
 },
 "nbformat": 4,
 "nbformat_minor": 5
}